{
 "cells": [
  {
   "cell_type": "markdown",
   "metadata": {},
   "source": [
    "**AFRICAN NAMES**"
   ]
  },
  {
   "cell_type": "markdown",
   "metadata": {},
   "source": [
    "Vamos começar! Mas antes, uma observação importante. Todos os resultados deste notebook resultam **tão somente** da análise deste banco de dados em questão, não refletindo necessariamente o que aconteceu na História. Para atestar as informações aqui contidas, é necessária a confirmação através de pessoas com *expertise* no assunto, como historiadores, antropólogos, linguistas, etc. "
   ]
  },
  {
   "cell_type": "markdown",
   "metadata": {},
   "source": [
    "Primeiro, vamos importar os pacotes:"
   ]
  },
  {
   "cell_type": "code",
   "execution_count": 4,
   "metadata": {
    "scrolled": true
   },
   "outputs": [],
   "source": [
    "import pandas as pd \n",
    "import numpy as np\n",
    "import matplotlib.pyplot as plt\n",
    "import seaborn as sns\n",
    "sns.set()\n",
    "plt.style.use('seaborn-colorblind')"
   ]
  },
  {
   "cell_type": "markdown",
   "metadata": {},
   "source": [
    "Carregando o arquivo:"
   ]
  },
  {
   "cell_type": "code",
   "execution_count": 5,
   "metadata": {
    "scrolled": true
   },
   "outputs": [],
   "source": [
    "file = pd.read_csv('/home/fabi/Desktop/datasets/slave_trade/AfricanNamesDatabase.csv')"
   ]
  },
  {
   "cell_type": "markdown",
   "metadata": {},
   "source": [
    "Pronto! Agora podemos começar a conhecer o banco de dados, utilizando um comando bem básico:"
   ]
  },
  {
   "cell_type": "code",
   "execution_count": 6,
   "metadata": {
    "scrolled": true
   },
   "outputs": [
    {
     "data": {
      "text/html": [
       "<div>\n",
       "<style scoped>\n",
       "    .dataframe tbody tr th:only-of-type {\n",
       "        vertical-align: middle;\n",
       "    }\n",
       "\n",
       "    .dataframe tbody tr th {\n",
       "        vertical-align: top;\n",
       "    }\n",
       "\n",
       "    .dataframe thead th {\n",
       "        text-align: right;\n",
       "    }\n",
       "</style>\n",
       "<table border=\"1\" class=\"dataframe\">\n",
       "  <thead>\n",
       "    <tr style=\"text-align: right;\">\n",
       "      <th></th>\n",
       "      <th>ID</th>\n",
       "      <th>Voyage ID</th>\n",
       "      <th>Name</th>\n",
       "      <th>Sexage</th>\n",
       "      <th>Age</th>\n",
       "      <th>Height (in)</th>\n",
       "      <th>Ship name</th>\n",
       "      <th>Arrival</th>\n",
       "      <th>Disembarkation</th>\n",
       "      <th>Embarkation</th>\n",
       "      <th>Country of Origin</th>\n",
       "    </tr>\n",
       "  </thead>\n",
       "  <tbody>\n",
       "    <tr>\n",
       "      <th>0</th>\n",
       "      <td>1</td>\n",
       "      <td>2314</td>\n",
       "      <td>Bora</td>\n",
       "      <td>Man</td>\n",
       "      <td>30</td>\n",
       "      <td>62.5</td>\n",
       "      <td>NS de Regla</td>\n",
       "      <td>1819</td>\n",
       "      <td>Freetown</td>\n",
       "      <td>Little Bassa</td>\n",
       "      <td></td>\n",
       "    </tr>\n",
       "    <tr>\n",
       "      <th>1</th>\n",
       "      <td>2</td>\n",
       "      <td>2315</td>\n",
       "      <td>Flam</td>\n",
       "      <td>Man</td>\n",
       "      <td>30</td>\n",
       "      <td>64</td>\n",
       "      <td>Fabiana</td>\n",
       "      <td>1819</td>\n",
       "      <td>Freetown</td>\n",
       "      <td>Trade Town</td>\n",
       "      <td></td>\n",
       "    </tr>\n",
       "    <tr>\n",
       "      <th>2</th>\n",
       "      <td>3</td>\n",
       "      <td>2315</td>\n",
       "      <td>Dee</td>\n",
       "      <td>Man</td>\n",
       "      <td>28</td>\n",
       "      <td>65</td>\n",
       "      <td>Fabiana</td>\n",
       "      <td>1819</td>\n",
       "      <td>Freetown</td>\n",
       "      <td>Trade Town</td>\n",
       "      <td></td>\n",
       "    </tr>\n",
       "    <tr>\n",
       "      <th>3</th>\n",
       "      <td>4</td>\n",
       "      <td>2315</td>\n",
       "      <td>Pao</td>\n",
       "      <td>Man</td>\n",
       "      <td>22</td>\n",
       "      <td>62.5</td>\n",
       "      <td>Fabiana</td>\n",
       "      <td>1819</td>\n",
       "      <td>Freetown</td>\n",
       "      <td>Trade Town</td>\n",
       "      <td>Crue</td>\n",
       "    </tr>\n",
       "    <tr>\n",
       "      <th>4</th>\n",
       "      <td>5</td>\n",
       "      <td>2315</td>\n",
       "      <td>Mufa</td>\n",
       "      <td>Man</td>\n",
       "      <td>16</td>\n",
       "      <td>59</td>\n",
       "      <td>Fabiana</td>\n",
       "      <td>1819</td>\n",
       "      <td>Freetown</td>\n",
       "      <td>Trade Town</td>\n",
       "      <td>Crue</td>\n",
       "    </tr>\n",
       "  </tbody>\n",
       "</table>\n",
       "</div>"
      ],
      "text/plain": [
       "   ID  Voyage ID  Name Sexage Age Height (in)    Ship name  Arrival  \\\n",
       "0   1       2314  Bora    Man  30        62.5  NS de Regla     1819   \n",
       "1   2       2315  Flam    Man  30          64      Fabiana     1819   \n",
       "2   3       2315   Dee    Man  28          65      Fabiana     1819   \n",
       "3   4       2315   Pao    Man  22        62.5      Fabiana     1819   \n",
       "4   5       2315  Mufa    Man  16          59      Fabiana     1819   \n",
       "\n",
       "  Disembarkation   Embarkation Country of Origin  \n",
       "0       Freetown  Little Bassa                    \n",
       "1       Freetown    Trade Town                    \n",
       "2       Freetown    Trade Town                    \n",
       "3       Freetown    Trade Town              Crue  \n",
       "4       Freetown    Trade Town              Crue  "
      ]
     },
     "execution_count": 6,
     "metadata": {},
     "output_type": "execute_result"
    }
   ],
   "source": [
    "file.head()"
   ]
  },
  {
   "cell_type": "markdown",
   "metadata": {},
   "source": [
    "Podemos ver que alguns dados estão em branco, como na coluna *Country of Origin*. Vamos ter que cuidar disso. Mas antes, vamos explorar um pouco mais:"
   ]
  },
  {
   "cell_type": "code",
   "execution_count": 7,
   "metadata": {
    "scrolled": true
   },
   "outputs": [
    {
     "name": "stdout",
     "output_type": "stream",
     "text": [
      "<class 'pandas.core.frame.DataFrame'>\n",
      "RangeIndex: 91490 entries, 0 to 91489\n",
      "Data columns (total 11 columns):\n",
      "ID                   91490 non-null int64\n",
      "Voyage ID            91490 non-null int64\n",
      "Name                 91490 non-null object\n",
      "Sexage               91490 non-null object\n",
      "Age                  91490 non-null object\n",
      "Height (in)          89948 non-null object\n",
      "Ship name            91490 non-null object\n",
      "Arrival              91490 non-null int64\n",
      "Disembarkation       91490 non-null object\n",
      "Embarkation          91490 non-null object\n",
      "Country of Origin    91481 non-null object\n",
      "dtypes: int64(3), object(8)\n",
      "memory usage: 7.7+ MB\n"
     ]
    }
   ],
   "source": [
    "file.info()"
   ]
  },
  {
   "cell_type": "markdown",
   "metadata": {},
   "source": [
    "Temos aí mais algumas informações úteis, como a quantidade de dados em cada coluna. Porém, conforme vimos acima, devemos desconfiar que essas informações podem nos levar ao engano, porque dados em branco também são contados. Na verdade, teremos que substituir esses dados em branco por uma outra coisa que o Python entenda como um dado faltante. Calma, depois vamos entender melhor."
   ]
  },
  {
   "cell_type": "markdown",
   "metadata": {},
   "source": [
    "Uma outra questão é que vai ser importante mudar o tipo de dado de *object* para *category*. (Conheça mais as vantagens desse procedimento neste link: https://pbpython.com/pandas_dtypes_cat.html - basta ler \"Introduction\" e \"Pandas Category Data Type\"). "
   ]
  },
  {
   "cell_type": "markdown",
   "metadata": {},
   "source": [
    "Prosseguindo:"
   ]
  },
  {
   "cell_type": "code",
   "execution_count": 8,
   "metadata": {
    "scrolled": true
   },
   "outputs": [
    {
     "data": {
      "text/html": [
       "<div>\n",
       "<style scoped>\n",
       "    .dataframe tbody tr th:only-of-type {\n",
       "        vertical-align: middle;\n",
       "    }\n",
       "\n",
       "    .dataframe tbody tr th {\n",
       "        vertical-align: top;\n",
       "    }\n",
       "\n",
       "    .dataframe thead th {\n",
       "        text-align: right;\n",
       "    }\n",
       "</style>\n",
       "<table border=\"1\" class=\"dataframe\">\n",
       "  <thead>\n",
       "    <tr style=\"text-align: right;\">\n",
       "      <th></th>\n",
       "      <th>ID</th>\n",
       "      <th>Voyage ID</th>\n",
       "      <th>Arrival</th>\n",
       "    </tr>\n",
       "  </thead>\n",
       "  <tbody>\n",
       "    <tr>\n",
       "      <th>count</th>\n",
       "      <td>91490.000000</td>\n",
       "      <td>91490.000000</td>\n",
       "      <td>91490.000000</td>\n",
       "    </tr>\n",
       "    <tr>\n",
       "      <th>mean</th>\n",
       "      <td>62122.019762</td>\n",
       "      <td>17698.248792</td>\n",
       "      <td>1831.402383</td>\n",
       "    </tr>\n",
       "    <tr>\n",
       "      <th>std</th>\n",
       "      <td>51305.069417</td>\n",
       "      <td>82016.880136</td>\n",
       "      <td>9.524704</td>\n",
       "    </tr>\n",
       "    <tr>\n",
       "      <th>min</th>\n",
       "      <td>1.000000</td>\n",
       "      <td>557.000000</td>\n",
       "      <td>1808.000000</td>\n",
       "    </tr>\n",
       "    <tr>\n",
       "      <th>25%</th>\n",
       "      <td>22935.250000</td>\n",
       "      <td>2443.000000</td>\n",
       "      <td>1826.000000</td>\n",
       "    </tr>\n",
       "    <tr>\n",
       "      <th>50%</th>\n",
       "      <td>45822.500000</td>\n",
       "      <td>2871.000000</td>\n",
       "      <td>1832.000000</td>\n",
       "    </tr>\n",
       "    <tr>\n",
       "      <th>75%</th>\n",
       "      <td>101263.750000</td>\n",
       "      <td>3601.000000</td>\n",
       "      <td>1837.000000</td>\n",
       "    </tr>\n",
       "    <tr>\n",
       "      <th>max</th>\n",
       "      <td>199932.000000</td>\n",
       "      <td>500082.000000</td>\n",
       "      <td>1862.000000</td>\n",
       "    </tr>\n",
       "  </tbody>\n",
       "</table>\n",
       "</div>"
      ],
      "text/plain": [
       "                  ID      Voyage ID       Arrival\n",
       "count   91490.000000   91490.000000  91490.000000\n",
       "mean    62122.019762   17698.248792   1831.402383\n",
       "std     51305.069417   82016.880136      9.524704\n",
       "min         1.000000     557.000000   1808.000000\n",
       "25%     22935.250000    2443.000000   1826.000000\n",
       "50%     45822.500000    2871.000000   1832.000000\n",
       "75%    101263.750000    3601.000000   1837.000000\n",
       "max    199932.000000  500082.000000   1862.000000"
      ]
     },
     "execution_count": 8,
     "metadata": {},
     "output_type": "execute_result"
    }
   ],
   "source": [
    "file.describe()"
   ]
  },
  {
   "cell_type": "markdown",
   "metadata": {},
   "source": [
    "Este método funciona em dados numéricos. E aqui descobrimos uma outra mudança de tipo de dados que precisará ser feita. As colunas *Age* (idade) e *Height (in)* (altura) também são dados numéricos, porém constam como *object*. Por isso elas não estão aparecendo no *output*. Vamos deixar a análise desses dados para quando fizermos a mudança."
   ]
  },
  {
   "cell_type": "code",
   "execution_count": 9,
   "metadata": {
    "scrolled": true
   },
   "outputs": [
    {
     "data": {
      "text/plain": [
       "Index(['ID', 'Voyage ID', 'Name', 'Sexage', 'Age', 'Height (in)', 'Ship name',\n",
       "       'Arrival', 'Disembarkation', 'Embarkation', 'Country of Origin'],\n",
       "      dtype='object')"
      ]
     },
     "execution_count": 9,
     "metadata": {},
     "output_type": "execute_result"
    }
   ],
   "source": [
    "file.columns"
   ]
  },
  {
   "cell_type": "markdown",
   "metadata": {},
   "source": [
    "Acima estão os nomes das colunas. Agora, vamos conhecer o tamanho do banco de dados:"
   ]
  },
  {
   "cell_type": "code",
   "execution_count": 10,
   "metadata": {
    "scrolled": true
   },
   "outputs": [
    {
     "data": {
      "text/plain": [
       "(91490, 11)"
      ]
     },
     "execution_count": 10,
     "metadata": {},
     "output_type": "execute_result"
    }
   ],
   "source": [
    "file.shape"
   ]
  },
  {
   "cell_type": "markdown",
   "metadata": {},
   "source": [
    "Há 91.490 linhas (pessoas) e 11 colunas (características). "
   ]
  },
  {
   "cell_type": "markdown",
   "metadata": {},
   "source": [
    "De acordo com o que vimos até aqui, realizaremos agora algumas transformações. Primeiro, vamos substituir os espaços vazios por *np.nan*. Assim suprimos a necessidade de fazer com que o Python os reconheçam como dados perdidos, em branco."
   ]
  },
  {
   "cell_type": "code",
   "execution_count": 11,
   "metadata": {
    "scrolled": true
   },
   "outputs": [],
   "source": [
    "file = file.replace(' ', np.nan)"
   ]
  },
  {
   "cell_type": "code",
   "execution_count": 12,
   "metadata": {
    "scrolled": true
   },
   "outputs": [
    {
     "name": "stdout",
     "output_type": "stream",
     "text": [
      "<class 'pandas.core.frame.DataFrame'>\n",
      "RangeIndex: 91490 entries, 0 to 91489\n",
      "Data columns (total 11 columns):\n",
      "ID                   91490 non-null int64\n",
      "Voyage ID            91490 non-null int64\n",
      "Name                 91490 non-null object\n",
      "Sexage               78612 non-null object\n",
      "Age                  90364 non-null object\n",
      "Height (in)          86670 non-null object\n",
      "Ship name            91489 non-null object\n",
      "Arrival              91490 non-null int64\n",
      "Disembarkation       91490 non-null object\n",
      "Embarkation          90364 non-null object\n",
      "Country of Origin    12086 non-null object\n",
      "dtypes: int64(3), object(8)\n",
      "memory usage: 7.7+ MB\n"
     ]
    }
   ],
   "source": [
    "file.info()"
   ]
  },
  {
   "cell_type": "markdown",
   "metadata": {},
   "source": [
    "Houve mudanças em relação ao que vimos anteriormente, especialmente na coluna *Country of Origin*. Tudo indica que a avaliação das informações sobre esta coluna (característica) será a mais prejudicada. Porém, essa é a realidade deste banco de dados e demonstrar isso é muito importante. "
   ]
  },
  {
   "cell_type": "markdown",
   "metadata": {},
   "source": [
    "Bom, os tais dados em branco, apesar de serem perdidos, são dados. Então decidi nomeá-los como tal para que essa informação apareça explicitamente. Óbvio que eu poderia ter feito isso antes, ao invés de utilizar o *np.nan*, porém eu não tinha uma noção tão exata desses dados faltantes. Vamos agora fazer essas substituições."
   ]
  },
  {
   "cell_type": "markdown",
   "metadata": {},
   "source": [
    "Observe que precisamos fazer essas mudanças nas colunas nas quais há menos dados do que o total (< 91.490). A primeira coluna nessa situação é *Sexage*. "
   ]
  },
  {
   "cell_type": "code",
   "execution_count": 13,
   "metadata": {
    "scrolled": true
   },
   "outputs": [],
   "source": [
    "file.Sexage = file.Sexage.replace(np.nan, 'desconhecido')"
   ]
  },
  {
   "cell_type": "markdown",
   "metadata": {},
   "source": [
    "A próxima coluna que precisei trabalhar foi *Age*. Porém, obviamente, não posso substituir por \"desconhecido\", porque são dados numéricos. Então, além de aproveitar a ocasião e mudar o tipo de dado de *object* para *float*, decidi preencher os dados vazios com a média de idade de todo o banco de dados."
   ]
  },
  {
   "cell_type": "code",
   "execution_count": 14,
   "metadata": {
    "scrolled": true
   },
   "outputs": [],
   "source": [
    "file.Age = pd.to_numeric(file.Age, downcast='float')\n",
    "file.Age = file.Age.fillna(file.Age.mean())"
   ]
  },
  {
   "cell_type": "markdown",
   "metadata": {},
   "source": [
    "Tomei a mesma decisão em relação a *Height (in)*."
   ]
  },
  {
   "cell_type": "code",
   "execution_count": 15,
   "metadata": {
    "scrolled": true
   },
   "outputs": [],
   "source": [
    "file['Height (in)'] = pd.to_numeric(file['Height (in)'], downcast='float')\n",
    "file['Height (in)'] = file['Height (in)'].fillna(file['Height (in)'].mean())"
   ]
  },
  {
   "cell_type": "markdown",
   "metadata": {},
   "source": [
    "*Ship name*, *Embarkation* e *Country of Origin* estão na mesma situação do que *Sexage*. Então:"
   ]
  },
  {
   "cell_type": "code",
   "execution_count": 16,
   "metadata": {
    "scrolled": true
   },
   "outputs": [],
   "source": [
    "file['Ship name'] = file['Ship name'].replace(np.nan, 'desconhecido')\n",
    "\n",
    "file.Embarkation = file.Embarkation.replace(np.nan, 'desconhecido')\n",
    "\n",
    "file['Country of Origin'] = file['Country of Origin'].replace(\n",
    "        np.nan, 'desconhecido')"
   ]
  },
  {
   "cell_type": "markdown",
   "metadata": {},
   "source": [
    "Uma última coisa a se fazer é transformar os demais dados que permanecem como *object*. Eles são categóricos nominais, portanto decidi transformá-los como *category*. Para isso, decidi utilizar um *for loop* assim: "
   ]
  },
  {
   "cell_type": "code",
   "execution_count": 17,
   "metadata": {
    "scrolled": true
   },
   "outputs": [],
   "source": [
    "for col in file.columns:\n",
    "    if file[col].dtype == np.object:\n",
    "        file[col] = file[col].astype('category') "
   ]
  },
  {
   "cell_type": "markdown",
   "metadata": {},
   "source": [
    "Pronto. Agora posso analisar os dados com as transformações feitas e tentar algumas interpretações iniciais.  "
   ]
  },
  {
   "cell_type": "code",
   "execution_count": 18,
   "metadata": {
    "scrolled": true
   },
   "outputs": [
    {
     "data": {
      "text/html": [
       "<div>\n",
       "<style scoped>\n",
       "    .dataframe tbody tr th:only-of-type {\n",
       "        vertical-align: middle;\n",
       "    }\n",
       "\n",
       "    .dataframe tbody tr th {\n",
       "        vertical-align: top;\n",
       "    }\n",
       "\n",
       "    .dataframe thead th {\n",
       "        text-align: right;\n",
       "    }\n",
       "</style>\n",
       "<table border=\"1\" class=\"dataframe\">\n",
       "  <thead>\n",
       "    <tr style=\"text-align: right;\">\n",
       "      <th></th>\n",
       "      <th>ID</th>\n",
       "      <th>Voyage ID</th>\n",
       "      <th>Name</th>\n",
       "      <th>Sexage</th>\n",
       "      <th>Age</th>\n",
       "      <th>Height (in)</th>\n",
       "      <th>Ship name</th>\n",
       "      <th>Arrival</th>\n",
       "      <th>Disembarkation</th>\n",
       "      <th>Embarkation</th>\n",
       "      <th>Country of Origin</th>\n",
       "    </tr>\n",
       "  </thead>\n",
       "  <tbody>\n",
       "    <tr>\n",
       "      <th>0</th>\n",
       "      <td>1</td>\n",
       "      <td>2314</td>\n",
       "      <td>Bora</td>\n",
       "      <td>Man</td>\n",
       "      <td>30.0</td>\n",
       "      <td>62.5</td>\n",
       "      <td>NS de Regla</td>\n",
       "      <td>1819</td>\n",
       "      <td>Freetown</td>\n",
       "      <td>Little Bassa</td>\n",
       "      <td>desconhecido</td>\n",
       "    </tr>\n",
       "    <tr>\n",
       "      <th>1</th>\n",
       "      <td>2</td>\n",
       "      <td>2315</td>\n",
       "      <td>Flam</td>\n",
       "      <td>Man</td>\n",
       "      <td>30.0</td>\n",
       "      <td>64.0</td>\n",
       "      <td>Fabiana</td>\n",
       "      <td>1819</td>\n",
       "      <td>Freetown</td>\n",
       "      <td>Trade Town</td>\n",
       "      <td>desconhecido</td>\n",
       "    </tr>\n",
       "    <tr>\n",
       "      <th>2</th>\n",
       "      <td>3</td>\n",
       "      <td>2315</td>\n",
       "      <td>Dee</td>\n",
       "      <td>Man</td>\n",
       "      <td>28.0</td>\n",
       "      <td>65.0</td>\n",
       "      <td>Fabiana</td>\n",
       "      <td>1819</td>\n",
       "      <td>Freetown</td>\n",
       "      <td>Trade Town</td>\n",
       "      <td>desconhecido</td>\n",
       "    </tr>\n",
       "    <tr>\n",
       "      <th>3</th>\n",
       "      <td>4</td>\n",
       "      <td>2315</td>\n",
       "      <td>Pao</td>\n",
       "      <td>Man</td>\n",
       "      <td>22.0</td>\n",
       "      <td>62.5</td>\n",
       "      <td>Fabiana</td>\n",
       "      <td>1819</td>\n",
       "      <td>Freetown</td>\n",
       "      <td>Trade Town</td>\n",
       "      <td>Crue</td>\n",
       "    </tr>\n",
       "    <tr>\n",
       "      <th>4</th>\n",
       "      <td>5</td>\n",
       "      <td>2315</td>\n",
       "      <td>Mufa</td>\n",
       "      <td>Man</td>\n",
       "      <td>16.0</td>\n",
       "      <td>59.0</td>\n",
       "      <td>Fabiana</td>\n",
       "      <td>1819</td>\n",
       "      <td>Freetown</td>\n",
       "      <td>Trade Town</td>\n",
       "      <td>Crue</td>\n",
       "    </tr>\n",
       "  </tbody>\n",
       "</table>\n",
       "</div>"
      ],
      "text/plain": [
       "   ID  Voyage ID  Name Sexage   Age  Height (in)    Ship name  Arrival  \\\n",
       "0   1       2314  Bora    Man  30.0         62.5  NS de Regla     1819   \n",
       "1   2       2315  Flam    Man  30.0         64.0      Fabiana     1819   \n",
       "2   3       2315   Dee    Man  28.0         65.0      Fabiana     1819   \n",
       "3   4       2315   Pao    Man  22.0         62.5      Fabiana     1819   \n",
       "4   5       2315  Mufa    Man  16.0         59.0      Fabiana     1819   \n",
       "\n",
       "  Disembarkation   Embarkation Country of Origin  \n",
       "0       Freetown  Little Bassa      desconhecido  \n",
       "1       Freetown    Trade Town      desconhecido  \n",
       "2       Freetown    Trade Town      desconhecido  \n",
       "3       Freetown    Trade Town              Crue  \n",
       "4       Freetown    Trade Town              Crue  "
      ]
     },
     "execution_count": 18,
     "metadata": {},
     "output_type": "execute_result"
    }
   ],
   "source": [
    "file.head()"
   ]
  },
  {
   "cell_type": "markdown",
   "metadata": {},
   "source": [
    "Podemos ver que no lugar do espaço vazio, os dados foram preenchidos com \"desconhecido\". Prosseguindo."
   ]
  },
  {
   "cell_type": "code",
   "execution_count": 19,
   "metadata": {
    "scrolled": true
   },
   "outputs": [
    {
     "name": "stdout",
     "output_type": "stream",
     "text": [
      "<class 'pandas.core.frame.DataFrame'>\n",
      "RangeIndex: 91490 entries, 0 to 91489\n",
      "Data columns (total 11 columns):\n",
      "ID                   91490 non-null int64\n",
      "Voyage ID            91490 non-null int64\n",
      "Name                 91490 non-null category\n",
      "Sexage               91490 non-null category\n",
      "Age                  91490 non-null float32\n",
      "Height (in)          91490 non-null float32\n",
      "Ship name            91490 non-null category\n",
      "Arrival              91490 non-null int64\n",
      "Disembarkation       91490 non-null category\n",
      "Embarkation          91490 non-null category\n",
      "Country of Origin    91490 non-null category\n",
      "dtypes: category(6), float32(2), int64(3)\n",
      "memory usage: 6.8 MB\n"
     ]
    }
   ],
   "source": [
    "file.info()"
   ]
  },
  {
   "cell_type": "markdown",
   "metadata": {},
   "source": [
    "Além de não ter nenhum dado faltante, podemos ver agora que não há mais nenhum dado como *object*."
   ]
  },
  {
   "cell_type": "code",
   "execution_count": 20,
   "metadata": {
    "scrolled": true
   },
   "outputs": [
    {
     "data": {
      "text/html": [
       "<div>\n",
       "<style scoped>\n",
       "    .dataframe tbody tr th:only-of-type {\n",
       "        vertical-align: middle;\n",
       "    }\n",
       "\n",
       "    .dataframe tbody tr th {\n",
       "        vertical-align: top;\n",
       "    }\n",
       "\n",
       "    .dataframe thead th {\n",
       "        text-align: right;\n",
       "    }\n",
       "</style>\n",
       "<table border=\"1\" class=\"dataframe\">\n",
       "  <thead>\n",
       "    <tr style=\"text-align: right;\">\n",
       "      <th></th>\n",
       "      <th>ID</th>\n",
       "      <th>Voyage ID</th>\n",
       "      <th>Age</th>\n",
       "      <th>Height (in)</th>\n",
       "      <th>Arrival</th>\n",
       "    </tr>\n",
       "  </thead>\n",
       "  <tbody>\n",
       "    <tr>\n",
       "      <th>count</th>\n",
       "      <td>91490.000000</td>\n",
       "      <td>91490.000000</td>\n",
       "      <td>91490.000000</td>\n",
       "      <td>91490.000000</td>\n",
       "      <td>91490.000000</td>\n",
       "    </tr>\n",
       "    <tr>\n",
       "      <th>mean</th>\n",
       "      <td>62122.019762</td>\n",
       "      <td>17698.248792</td>\n",
       "      <td>18.889534</td>\n",
       "      <td>58.600918</td>\n",
       "      <td>1831.402383</td>\n",
       "    </tr>\n",
       "    <tr>\n",
       "      <th>std</th>\n",
       "      <td>51305.069417</td>\n",
       "      <td>82016.880136</td>\n",
       "      <td>8.549236</td>\n",
       "      <td>6.660805</td>\n",
       "      <td>9.524704</td>\n",
       "    </tr>\n",
       "    <tr>\n",
       "      <th>min</th>\n",
       "      <td>1.000000</td>\n",
       "      <td>557.000000</td>\n",
       "      <td>0.500000</td>\n",
       "      <td>0.000000</td>\n",
       "      <td>1808.000000</td>\n",
       "    </tr>\n",
       "    <tr>\n",
       "      <th>25%</th>\n",
       "      <td>22935.250000</td>\n",
       "      <td>2443.000000</td>\n",
       "      <td>11.000000</td>\n",
       "      <td>54.000000</td>\n",
       "      <td>1826.000000</td>\n",
       "    </tr>\n",
       "    <tr>\n",
       "      <th>50%</th>\n",
       "      <td>45822.500000</td>\n",
       "      <td>2871.000000</td>\n",
       "      <td>19.000000</td>\n",
       "      <td>59.000000</td>\n",
       "      <td>1832.000000</td>\n",
       "    </tr>\n",
       "    <tr>\n",
       "      <th>75%</th>\n",
       "      <td>101263.750000</td>\n",
       "      <td>3601.000000</td>\n",
       "      <td>26.000000</td>\n",
       "      <td>64.000000</td>\n",
       "      <td>1837.000000</td>\n",
       "    </tr>\n",
       "    <tr>\n",
       "      <th>max</th>\n",
       "      <td>199932.000000</td>\n",
       "      <td>500082.000000</td>\n",
       "      <td>77.000000</td>\n",
       "      <td>85.000000</td>\n",
       "      <td>1862.000000</td>\n",
       "    </tr>\n",
       "  </tbody>\n",
       "</table>\n",
       "</div>"
      ],
      "text/plain": [
       "                  ID      Voyage ID           Age   Height (in)       Arrival\n",
       "count   91490.000000   91490.000000  91490.000000  91490.000000  91490.000000\n",
       "mean    62122.019762   17698.248792     18.889534     58.600918   1831.402383\n",
       "std     51305.069417   82016.880136      8.549236      6.660805      9.524704\n",
       "min         1.000000     557.000000      0.500000      0.000000   1808.000000\n",
       "25%     22935.250000    2443.000000     11.000000     54.000000   1826.000000\n",
       "50%     45822.500000    2871.000000     19.000000     59.000000   1832.000000\n",
       "75%    101263.750000    3601.000000     26.000000     64.000000   1837.000000\n",
       "max    199932.000000  500082.000000     77.000000     85.000000   1862.000000"
      ]
     },
     "execution_count": 20,
     "metadata": {},
     "output_type": "execute_result"
    }
   ],
   "source": [
    "file.describe()"
   ]
  },
  {
   "cell_type": "markdown",
   "metadata": {},
   "source": [
    "Agora sim todos os dados numéricos estão discriminados. Neste trabalho, vou utilizar somente *Age* e *Arrival*. Então vou focar a análise somente nessas colunas "
   ]
  },
  {
   "cell_type": "markdown",
   "metadata": {},
   "source": [
    "Podemos ver que a média de idade é de 18,89 anos. Como esperávamos, a maioria das embarcações era composta por pessoas jovens. Porém podemos verificar que os dados mostram que havia bebês nas embarcações (veja o min, que consta como 0,5 anos) e idosos (max 77 anos). Outro dado alarmante é que de 1 a cada 4 pessoas (25%) eram crianças. (Veja aqui sobre quartis: https://pt.wikipedia.org/wiki/Quartil).  "
   ]
  },
  {
   "cell_type": "markdown",
   "metadata": {},
   "source": [
    "Sobre *Arrival*, verificamos que, como a média é 1831, é nesse período que ocorreu a maioria dos resgates. Também que o banco de dados mostra registros de 1808 a 1862."
   ]
  },
  {
   "cell_type": "markdown",
   "metadata": {},
   "source": [
    "Como estou fazendo esta exposição em português, vou fazer algumas traduções no banco de dados:"
   ]
  },
  {
   "cell_type": "code",
   "execution_count": 21,
   "metadata": {
    "scrolled": true
   },
   "outputs": [],
   "source": [
    "file = file.replace({'Bahamas unspecified': 'Bahamas (não especificado)',\n",
    "                     'St. Helena': 'Santa Helena'})"
   ]
  },
  {
   "cell_type": "markdown",
   "metadata": {},
   "source": [
    "INICIANDO OS PLOTS! Primeiro comecei com a coluna *Disermbarkation*, que mostra os locais onde os resgatados desembarcaram. Vou mostrando o passo-a-passo."
   ]
  },
  {
   "cell_type": "code",
   "execution_count": 22,
   "metadata": {
    "scrolled": true
   },
   "outputs": [
    {
     "data": {
      "text/plain": [
       "Freetown                      81009\n",
       "Havana                        10058\n",
       "Bahamas (não especificado)      183\n",
       "Kingston, Jamaica               144\n",
       "Santa Helena                     96\n",
       "Name: Disembarkation, dtype: int64"
      ]
     },
     "execution_count": 22,
     "metadata": {},
     "output_type": "execute_result"
    }
   ],
   "source": [
    "disemb0 = file.Disembarkation.value_counts()\n",
    "disemb0"
   ]
  },
  {
   "cell_type": "markdown",
   "metadata": {},
   "source": [
    "Depois de separar a coluna *Disembarkation*, podemos verificar que a grande maioria das pessoas catalogadas neste banco de dados desembarcaram em Freetown, na Serra Leoa (conheça um pouco da história e outras características da cidade aqui: https://pt.wikipedia.org/wiki/Freetown). Poucas, em Santa Helena (https://pt.wikipedia.org/wiki/Santa_Helena_(ilha)). "
   ]
  },
  {
   "cell_type": "code",
   "execution_count": 23,
   "metadata": {
    "scrolled": true
   },
   "outputs": [
    {
     "data": {
      "text/plain": [
       "Bahamas, Jamaica e Santa Helena      423\n",
       "Freetown                           81009\n",
       "Havana                             10058\n",
       "dtype: int64"
      ]
     },
     "execution_count": 23,
     "metadata": {},
     "output_type": "execute_result"
    }
   ],
   "source": [
    "disemb1 = pd.Series(disemb0[:2])\n",
    "disemb2 = {'Bahamas, Jamaica e Santa Helena': sum(disemb0[2:])}\n",
    "disemb2 = pd.Series(disemb2, index=['Bahamas, Jamaica e Santa Helena'])\n",
    "disemb = pd.concat((disemb2, disemb1))\n",
    "disemb"
   ]
  },
  {
   "cell_type": "markdown",
   "metadata": {},
   "source": [
    "No código acima, como a quantidade de pessoas desembarcadas em Bahamas, Jamaica e Santa Helena é pequena, resolvi juntar os três para ficar melhor no plot."
   ]
  },
  {
   "cell_type": "code",
   "execution_count": 24,
   "metadata": {
    "scrolled": true
   },
   "outputs": [],
   "source": [
    "disemb_d = dict(disemb.sort_values(ascending=False))\n",
    "disemb_dkeys, disemb_dvalues = zip(*disemb_d.items())"
   ]
  },
  {
   "cell_type": "markdown",
   "metadata": {},
   "source": [
    "Transformei em dicionário e depois \"separei\" as chaves (*keys*) e os valores (*values*) pra poder trabalhá-los no plot, que vem a seguir:"
   ]
  },
  {
   "cell_type": "code",
   "execution_count": 25,
   "metadata": {
    "scrolled": false
   },
   "outputs": [
    {
     "data": {
      "image/png": "[encoded data removed]",
      "text/plain": [
       "<Figure size 432x288 with 1 Axes>"
      ]
     },
     "metadata": {},
     "output_type": "display_data"
    },
    {
     "name": "stdout",
     "output_type": "stream",
     "text": [
      "Freetown                      81009\n",
      "Havana                        10058\n",
      "Bahamas (não especificado)      183\n",
      "Kingston, Jamaica               144\n",
      "Santa Helena                     96\n",
      "Name: Disembarkation, dtype: int64\n"
     ]
    }
   ],
   "source": [
    "fig, ax = plt.subplots()\n",
    "ax.pie(disemb_dvalues, autopct='%1.1f%%')\n",
    "fig.legend(disemb_dkeys, loc=8)\n",
    "plt.show()\n",
    "print(disemb0)"
   ]
  },
  {
   "cell_type": "markdown",
   "metadata": {},
   "source": [
    "Agora verificando com porcentagens, podemos ver como a grande maioria das pessoas desembarcaram em Freetown (88.5%) e uma pequena fatia em Bahamas, Jamaica e Santa Helena (0,5 %). "
   ]
  },
  {
   "cell_type": "markdown",
   "metadata": {},
   "source": [
    "Analisemos a coluna *Embarkation*, que mostra de qual local as pessoas resgatadas embarcaram (e fiz outra tradução). "
   ]
  },
  {
   "cell_type": "code",
   "execution_count": 26,
   "metadata": {
    "scrolled": false
   },
   "outputs": [
    {
     "data": {
      "text/plain": [
       "Lagos                              15730\n",
       "Bonny                              14449\n",
       "Ouidah                              8306\n",
       "Velha Calabar                       7192\n",
       "Gallinhas                           4522\n",
       "Bight of Benin unspecified          3958\n",
       "Rio Pongo                           2922\n",
       "Badagry                             2729\n",
       "Cameroons River                     2165\n",
       "Sierra Leone unspecified            2091\n",
       "Loango                              1926\n",
       "Bight of Biafra unspecified         1856\n",
       "Rio Brass                           1603\n",
       "Popo                                1542\n",
       "Sherbro                             1422\n",
       "Rio Nun                             1405\n",
       "New Calabar                         1324\n",
       "Freetown                            1167\n",
       "desconhecido                        1126\n",
       "Cabinda                             1124\n",
       "Ambriz                              1101\n",
       "Bimbia                               892\n",
       "Cameroons, unspecified               862\n",
       "Congo North                          715\n",
       "Bissau                               679\n",
       "Anomabu                              627\n",
       "Gabon                                624\n",
       "West Central Africa unspecified      597\n",
       "Mozambique                           578\n",
       "Jacquin                              540\n",
       "Congo River                          524\n",
       "Cap Lopez                            473\n",
       "Cape Mount                           463\n",
       "Porto Novo                           450\n",
       "Luanda                               410\n",
       "Keta                                 388\n",
       "Quicombo                             362\n",
       "Gambia                               285\n",
       "Grand Bassa                          249\n",
       "Windward Coast unspecified           249\n",
       "Cacheu                               248\n",
       "Grand Mesurado                       233\n",
       "St. Paul                             231\n",
       "Gold Coast unspecified               209\n",
       "Nova Redonda                         192\n",
       "Little Bassa                         184\n",
       "Sestos                               169\n",
       "Mayumba                               94\n",
       "Senegambia, unspecified               83\n",
       "Iles de Los                           69\n",
       "Rio Nunez                             52\n",
       "Ile Principé                          22\n",
       "Bananas, Goree and Senegal            17\n",
       "Iles Plantain                         13\n",
       "Trade Town                            13\n",
       "Gorée                                 11\n",
       "Mano                                  10\n",
       "Oerê                                   8\n",
       "Petit Popo                             3\n",
       "Corisco                                2\n",
       "Name: Embarkation, dtype: int64"
      ]
     },
     "execution_count": 26,
     "metadata": {},
     "output_type": "execute_result"
    }
   ],
   "source": [
    "file = file.replace({'Old Calabar': 'Velha Calabar'})\n",
    "emb0 = file.Embarkation.value_counts()\n",
    "emb0.shape\n",
    "emb0"
   ]
  },
  {
   "cell_type": "markdown",
   "metadata": {},
   "source": [
    "Verificamos aqui todos os 60 locais em ordem decrescente de acordo com o número de pessoas embarcadas. Podemos verificar que são desconhecidos os locais de embarque de 1126 pessoas."
   ]
  },
  {
   "cell_type": "markdown",
   "metadata": {},
   "source": [
    "Como fica inviável plotar todos os 60 locais, decidi separar os 5 locais com os maiores valores e definir o restante como \"outros\". "
   ]
  },
  {
   "cell_type": "code",
   "execution_count": 27,
   "metadata": {
    "scrolled": true
   },
   "outputs": [],
   "source": [
    "emb1 = pd.Series(emb0[:5])\n",
    "emb2 = {'outros': sum(emb0[5:])}\n",
    "emb2 = pd.Series(emb2, index=['outros'])\n",
    "emb = pd.concat((emb2, emb1))"
   ]
  },
  {
   "cell_type": "markdown",
   "metadata": {},
   "source": [
    "E então fazer a transformação com dicionários e plotar."
   ]
  },
  {
   "cell_type": "code",
   "execution_count": 28,
   "metadata": {
    "scrolled": false
   },
   "outputs": [
    {
     "data": {
      "image/png": "[encoded data removed]",
      "text/plain": [
       "<Figure size 432x288 with 1 Axes>"
      ]
     },
     "metadata": {},
     "output_type": "display_data"
    },
    {
     "name": "stdout",
     "output_type": "stream",
     "text": [
      "outros           41291\n",
      "Lagos            15730\n",
      "Bonny            14449\n",
      "Ouidah            8306\n",
      "Velha Calabar     7192\n",
      "Gallinhas         4522\n",
      "dtype: int64\n"
     ]
    }
   ],
   "source": [
    "emb_d = dict(emb.sort_values())\n",
    "emb_dkeys, emb_dvalues = zip(*emb_d.items())\n",
    "\n",
    "fig, ax = plt.subplots()\n",
    "ax.pie(emb_dvalues, labels=emb_dkeys, autopct='%1.1f%%')\n",
    "\n",
    "plt.show()   \n",
    "\n",
    "print(emb)"
   ]
  },
  {
   "cell_type": "markdown",
   "metadata": {},
   "source": [
    "Como podemos verificar, o maior número de embarques ocorreu em Lagos (15.730 - 17,2% dos embarques). "
   ]
  },
  {
   "cell_type": "markdown",
   "metadata": {},
   "source": [
    "Aproveite a ocasião e conheça sobre a \"Porta do Não Retorno\" em Ouidah: https://pt.wikipedia.org/wiki/Porta_do_Não_Retorno. "
   ]
  },
  {
   "cell_type": "markdown",
   "metadata": {},
   "source": [
    "A próxima plotagem mostra a distribuição da quantidade de resgates no período de registro do banco de dados (de 1808 a 1862). Plotando pra entender melhor. "
   ]
  },
  {
   "cell_type": "code",
   "execution_count": 29,
   "metadata": {
    "scrolled": true
   },
   "outputs": [
    {
     "data": {
      "image/png": "[encoded data removed]",
      "text/plain": [
       "<Figure size 432x288 with 1 Axes>"
      ]
     },
     "metadata": {},
     "output_type": "display_data"
    }
   ],
   "source": [
    "arrival = pd.DataFrame(file.Arrival.value_counts()).reset_index(\n",
    "        ).sort_values(by='index')\n",
    "arrival = arrival.rename(columns={'index': 'Ano', 'Arrival': \n",
    "    'Pessoas resgatadas'})\n",
    "    \n",
    "fig, ax = plt.subplots()    \n",
    "ax.scatter(x='Ano', y='Pessoas resgatadas', data=arrival, marker='+')\n",
    "ax.set_xlabel('Ano')\n",
    "\n",
    "plt.show()"
   ]
  },
  {
   "cell_type": "markdown",
   "metadata": {},
   "source": [
    "Cada ponto do gráfico (+) corresponde a quantidade de pessoas resgatadas por ano. Podemos verificar que após a metade de 1820, a quantidade de pessoas resgatadas deu um salto, diminuindo a partir da segunda metade da década de 1840."
   ]
  },
  {
   "cell_type": "markdown",
   "metadata": {},
   "source": [
    "A plotagem abaixo mostra a origem das pessoas resgatadas. Ao que parece, não se trata somente de origem geográfica, mas também origem étnica (além de subgrupos). Qual a quantidade de grupos geográficos ou étnicos que o banco de dados possui? Vamos verificar a seguir. "
   ]
  },
  {
   "cell_type": "code",
   "execution_count": 30,
   "metadata": {
    "scrolled": true
   },
   "outputs": [
    {
     "data": {
      "text/plain": [
       "(564,)"
      ]
     },
     "execution_count": 30,
     "metadata": {},
     "output_type": "execute_result"
    }
   ],
   "source": [
    "origin0a = file['Country of Origin'].value_counts()\n",
    "origin0a.shape"
   ]
  },
  {
   "cell_type": "markdown",
   "metadata": {},
   "source": [
    "Como fica inviável plotar 564 origens étnicas ou geográficas, veja como decidi fazer:"
   ]
  },
  {
   "cell_type": "code",
   "execution_count": 31,
   "metadata": {
    "scrolled": false
   },
   "outputs": [
    {
     "data": {
      "image/png": "[encoded data removed]",
      "text/plain": [
       "<Figure size 432x288 with 1 Axes>"
      ]
     },
     "metadata": {},
     "output_type": "display_data"
    },
    {
     "name": "stdout",
     "output_type": "stream",
     "text": [
      "desconhecido        79404\n",
      "Lucumi Ello          1235\n",
      "Congo                1172\n",
      "Eboo, Hebo            762\n",
      "Lucumi                582\n",
      "Carabali Suamo        490\n",
      "Mandinga              474\n",
      "Lucumi Ecumacho       470\n",
      "Ganga                 465\n",
      "Carabali Camaron      396\n",
      "Congo Mondongo        362\n",
      "Name: Country of Origin, dtype: int64\n"
     ]
    }
   ],
   "source": [
    "origin1a = pd.Series(origin0a[:2])\n",
    "origin2a = {'outros': sum(origin0a[2:])}\n",
    "origin2a = pd.Series(origin2a, index=['outros'])\n",
    "origina = pd.concat((origin2a, origin1a))\n",
    "\n",
    "origina_d = dict(origina.sort_values())\n",
    "origina_dkeys, origina_dvalues = zip(*origina_d.items())\n",
    "\n",
    "fig, ax = plt.subplots()\n",
    "ax.pie(origina_dvalues, labels=origina_dkeys, autopct='%1.1f%%')\n",
    "plt.show()\n",
    "\n",
    "print(origin0a.head(11))"
   ]
  },
  {
   "cell_type": "markdown",
   "metadata": {},
   "source": [
    "Verificamos que a maioria dos registros que chamamos de \"origem\" é desconhecida. *Lucumi Ello* tem o maior número de menções, com apenas 1,3%. Apesar disso, é interessante explorar os outros registros. Por isso, decidi retirar os dados desconhecidos e analisar os conhecidos, assim: "
   ]
  },
  {
   "cell_type": "code",
   "execution_count": 32,
   "metadata": {
    "scrolled": false
   },
   "outputs": [
    {
     "data": {
      "image/png": "[encoded data removed]",
      "text/plain": [
       "<Figure size 432x288 with 1 Axes>"
      ]
     },
     "metadata": {},
     "output_type": "display_data"
    },
    {
     "name": "stdout",
     "output_type": "stream",
     "text": [
      "outros            7845\n",
      "Lucumi Ello       1235\n",
      "Congo             1172\n",
      "Eboo, Hebo         762\n",
      "Lucumi             582\n",
      "Carabali Suamo     490\n",
      "dtype: int64\n"
     ]
    }
   ],
   "source": [
    "origin0b = origin0a.iloc[1:] #retirando os dados desconhecidos\n",
    "\n",
    "origin1b = pd.Series(origin0b[:5])\n",
    "origin2b = {'outros': sum(origin0b[5:])}\n",
    "origin2b = pd.Series(origin2b, index=['outros'])\n",
    "originb = pd.concat((origin2b, origin1b))\n",
    "\n",
    "originb_d = dict(originb.sort_values(ascending=False))\n",
    "originb_dkeys, originb_dvalues = zip(*originb_d.items())\n",
    "\n",
    "fig, ax = plt.subplots()\n",
    "ax.pie(originb_dvalues, autopct='%1.1f%%')\n",
    "fig.legend(originb_dkeys, loc=4)\n",
    "plt.show()\n",
    "\n",
    "print(originb)"
   ]
  },
  {
   "cell_type": "markdown",
   "metadata": {},
   "source": [
    "A próxima plotagem nos diz sobre o gênero das pessoas embarcadas. Após fazer as traduções, temos as seguintes informações:"
   ]
  },
  {
   "cell_type": "code",
   "execution_count": 33,
   "metadata": {
    "scrolled": false
   },
   "outputs": [
    {
     "data": {
      "image/png": "[encoded data removed]",
      "text/plain": [
       "<Figure size 432x288 with 1 Axes>"
      ]
     },
     "metadata": {},
     "output_type": "display_data"
    },
    {
     "name": "stdout",
     "output_type": "stream",
     "text": [
      "Homem           33827\n",
      "Menino          18896\n",
      "Mulher          13870\n",
      "desconhecido    12878\n",
      "Menina          12019\n",
      "Name: Sexage, dtype: int64\n"
     ]
    }
   ],
   "source": [
    "file = file.replace({'Man': 'Homem', 'Boy': 'Menino', 'Woman': 'Mulher', \n",
    "                     'Girl': 'Menina'})\n",
    "sexage = file.Sexage.value_counts()\n",
    "sexage_d = dict(sexage)\n",
    "sexage_dkeys, sexage_dvalues = zip(*sexage_d.items())\n",
    "\n",
    "fig, ax = plt.subplots()\n",
    "ax.pie(sexage_dvalues, autopct='%1.1f%%')\n",
    "fig.legend(sexage_dkeys, loc=4)\n",
    "plt.show()\n",
    "\n",
    "print(sexage)"
   ]
  },
  {
   "cell_type": "markdown",
   "metadata": {},
   "source": [
    "Verificamos que a maioria das pessoas embarcadas eram do gênero masculino, com 37% de homens e 20.7% de meninos. E 14.1% dos gêneros são desconhecidos. Seria interessante conhecer através da análise de dados qual o método para definir homens, mulheres, meninos e meninas. Incentivo vocês a fazerem isso! =)"
   ]
  },
  {
   "cell_type": "markdown",
   "metadata": {},
   "source": [
    "Agora vamos conhecer a faixa etária das pessoas nas embarcações. "
   ]
  },
  {
   "cell_type": "code",
   "execution_count": 34,
   "metadata": {
    "scrolled": false
   },
   "outputs": [
    {
     "data": {
      "image/png": "[encoded data removed]",
      "text/plain": [
       "<Figure size 432x288 with 1 Axes>"
      ]
     },
     "metadata": {},
     "output_type": "display_data"
    },
    {
     "data": {
      "text/plain": [
       "count    91490.000000\n",
       "mean        18.889534\n",
       "std          8.549236\n",
       "min          0.500000\n",
       "25%         11.000000\n",
       "50%         19.000000\n",
       "75%         26.000000\n",
       "max         77.000000\n",
       "Name: Age, dtype: float64"
      ]
     },
     "execution_count": 34,
     "metadata": {},
     "output_type": "execute_result"
    }
   ],
   "source": [
    "age = file.Age\n",
    "fig, ax = plt.subplots()    \n",
    "ax.hist(age, log=True)\n",
    "ax.set_xlabel('idade')\n",
    "plt.show()\n",
    "\n",
    "age.describe()"
   ]
  },
  {
   "cell_type": "markdown",
   "metadata": {},
   "source": [
    "Conforme já havíamos verificado, o histograma acima mostra que a embarcação era majoritariamente composta por pessoas jovens. Confirmamos também que havia muitas crianças e até bebês, bem como idosos nessas embarcações. =("
   ]
  },
  {
   "cell_type": "markdown",
   "metadata": {},
   "source": [
    "O banco de dados também fornece os nomes das embarcações. Conforme veremos abaixo, 444 diferentes navios foram registrados (alguns deles são interceptados mais de uma vez). "
   ]
  },
  {
   "cell_type": "code",
   "execution_count": 35,
   "metadata": {
    "scrolled": true
   },
   "outputs": [
    {
     "data": {
      "text/plain": [
       "(444,)"
      ]
     },
     "execution_count": 35,
     "metadata": {},
     "output_type": "execute_result"
    }
   ],
   "source": [
    "ship0 = file['Ship name'].value_counts()\n",
    "ship0.shape"
   ]
  },
  {
   "cell_type": "markdown",
   "metadata": {},
   "source": [
    "Agora vamos conhecer alguns nomes:"
   ]
  },
  {
   "cell_type": "code",
   "execution_count": 36,
   "metadata": {
    "scrolled": false
   },
   "outputs": [
    {
     "data": {
      "image/png": "[encoded data removed]",
      "text/plain": [
       "<Figure size 432x288 with 1 Axes>"
      ]
     },
     "metadata": {},
     "output_type": "display_data"
    },
    {
     "name": "stdout",
     "output_type": "stream",
     "text": [
      "Maria        1116\n",
      "Carolina     1089\n",
      "Emilia        886\n",
      "Esperança     860\n",
      "Vingador      845\n",
      "Name: Ship name, dtype: int64\n"
     ]
    }
   ],
   "source": [
    "ship1 = pd.Series(ship0[:1])\n",
    "ship2 = {'outros': sum(ship0[1:])}\n",
    "ship2 = pd.Series(ship2, index=['outros'])\n",
    "ship = pd.concat((ship2, ship1))\n",
    "\n",
    "ship_d = dict(ship.sort_values())\n",
    "ship_dkeys, ship_dvalues = zip(*ship_d.items())\n",
    "\n",
    "fig, ax = plt.subplots()\n",
    "ax.pie(ship_dvalues, labels=ship_dkeys, autopct='%1.1f%%')\n",
    "plt.show()\n",
    "\n",
    "print(ship0.head())"
   ]
  },
  {
   "cell_type": "markdown",
   "metadata": {},
   "source": [
    "Conforme esperávamos, fica inviável plotar todos os navios. Vamos selecionar os 10 navios que mais transportaram pessoas:"
   ]
  },
  {
   "cell_type": "code",
   "execution_count": 37,
   "metadata": {
    "scrolled": false
   },
   "outputs": [
    {
     "data": {
      "image/png": "[encoded data removed]",
      "text/plain": [
       "<Figure size 432x288 with 1 Axes>"
      ]
     },
     "metadata": {},
     "output_type": "display_data"
    },
    {
     "name": "stdout",
     "output_type": "stream",
     "text": [
      "Maria                1116\n",
      "Carolina             1089\n",
      "Emilia                886\n",
      "Esperança             860\n",
      "Vingador              845\n",
      "Iberia                726\n",
      "Águia                 720\n",
      "Málaga of Belouru     716\n",
      "Josephina             712\n",
      "Felicidade            680\n",
      "Name: Ship name, dtype: int64\n"
     ]
    }
   ],
   "source": [
    "shipb = ship0.head(10)\n",
    "shipb_d = dict(shipb.sort_values())\n",
    "shipb_dkeys, shipb_dvalues = zip(*shipb_d.items())\n",
    "\n",
    "shipb = ship0.head(10)\n",
    "shipb_d = dict(shipb.sort_values())\n",
    "shipb_dkeys, shipb_dvalues = zip(*shipb_d.items())\n",
    "\n",
    "fig, ax = plt.subplots()\n",
    "ax.pie(shipb_dvalues, labels=shipb_dkeys, autopct='%1.1f%%', startangle=90)\n",
    "plt.show()\n",
    "\n",
    "print(shipb)"
   ]
  },
  {
   "cell_type": "markdown",
   "metadata": {},
   "source": [
    "Por curiosidade, vamos conhecer os navios com menos pessoas resgatadas:"
   ]
  },
  {
   "cell_type": "code",
   "execution_count": 38,
   "metadata": {
    "scrolled": false
   },
   "outputs": [
    {
     "name": "stdout",
     "output_type": "stream",
     "text": [
      "Os 30 navios com menos resgates:\n",
      "S Joãozinho                                      6\n",
      "Linda Africano                                   5\n",
      "Africans escaped to the colony for protection    5\n",
      "Unidentified (Group 32)                          4\n",
      "Seized in the colony                             3\n",
      "Emprendador                                      3\n",
      "HMS Hecate                                       3\n",
      "Tres Amigos                                      3\n",
      "Landed from HMS Favourite                        3\n",
      "Two Cousins                                      3\n",
      "Eliza Davidson                                   2\n",
      "Nymfa do Mar                                     2\n",
      "Rapido                                           2\n",
      "Seized in the Gambia by Capt Finlay              2\n",
      "Santana de Africa                                2\n",
      "Feliz Victoria                                   2\n",
      "HMCS Charlotte                                   1\n",
      "desconhecido                                     1\n",
      "Seized at town near Rio Pongas                   1\n",
      "Seized on board the John                         1\n",
      "Taken by the Expedition in the River Gambia      1\n",
      "Novo Abismo                                      1\n",
      "Phoenix                                          1\n",
      "NS de Regla                                      1\n",
      "NS da Conceicao                                  1\n",
      "Tavernier                                        1\n",
      "S Antonio Vitorioso                              1\n",
      "Merced                                           1\n",
      "From HMS Tartar                                  1\n",
      "Eliza                                            1\n",
      "Name: Ship name, dtype: int64\n"
     ]
    }
   ],
   "source": [
    "print('Os 30 navios com menos resgates:')\n",
    "print(ship0[-30:])"
   ]
  },
  {
   "cell_type": "markdown",
   "metadata": {},
   "source": [
    "Uma triste curiosidade: um dos navios tem meu nome. Foi muito triste o dia que eu detectei isso. =( "
   ]
  },
  {
   "cell_type": "markdown",
   "metadata": {},
   "source": [
    "No total, foram resgatadas 131 pessoas desse navio."
   ]
  },
  {
   "cell_type": "code",
   "execution_count": 39,
   "metadata": {
    "scrolled": true
   },
   "outputs": [
    {
     "data": {
      "text/plain": [
       "(131, 11)"
      ]
     },
     "execution_count": 39,
     "metadata": {},
     "output_type": "execute_result"
    }
   ],
   "source": [
    "fabiana = file[file['Ship name'] == 'Fabiana']\n",
    "fabiana.shape"
   ]
  },
  {
   "cell_type": "markdown",
   "metadata": {},
   "source": [
    "Verificamos também que 118 pessoas embarcaram neste navio em Bonny e 13 em Trade Town."
   ]
  },
  {
   "cell_type": "code",
   "execution_count": 40,
   "metadata": {
    "scrolled": true
   },
   "outputs": [
    {
     "data": {
      "text/plain": [
       "Bonny         118\n",
       "Trade Town     13\n",
       "Name: Embarkation, dtype: int64"
      ]
     },
     "execution_count": 40,
     "metadata": {},
     "output_type": "execute_result"
    }
   ],
   "source": [
    "fabiana.Embarkation.value_counts()"
   ]
  },
  {
   "cell_type": "markdown",
   "metadata": {},
   "source": [
    "Todas as pessoas do navio em questão desembarcaram em Freetown, como veremos abaixo."
   ]
  },
  {
   "cell_type": "code",
   "execution_count": 41,
   "metadata": {
    "scrolled": true
   },
   "outputs": [
    {
     "data": {
      "text/plain": [
       "Freetown    131\n",
       "Name: Disembarkation, dtype: int64"
      ]
     },
     "execution_count": 41,
     "metadata": {},
     "output_type": "execute_result"
    }
   ],
   "source": [
    "fabiana.Disembarkation.value_counts()"
   ]
  },
  {
   "cell_type": "markdown",
   "metadata": {},
   "source": [
    "Finalmente, verificaremos agora que no ano de 1819, 13 pessoas foram resgatadas deste navio. Em 1823, 118."
   ]
  },
  {
   "cell_type": "code",
   "execution_count": 42,
   "metadata": {
    "scrolled": true
   },
   "outputs": [
    {
     "data": {
      "text/plain": [
       "1823    118\n",
       "1819     13\n",
       "Name: Arrival, dtype: int64"
      ]
     },
     "execution_count": 42,
     "metadata": {},
     "output_type": "execute_result"
    }
   ],
   "source": [
    "fabiana.Arrival.value_counts()"
   ]
  },
  {
   "cell_type": "markdown",
   "metadata": {},
   "source": [
    "Depois de analisar algumas características gerais, agora vamos analisar os dados das pessoas desembarcadas por local, ou seja: Freetown, Havana, Bahamas, Kingston (Jamaica) e Santa Helena."
   ]
  },
  {
   "cell_type": "markdown",
   "metadata": {},
   "source": [
    "**Freetown**"
   ]
  },
  {
   "cell_type": "markdown",
   "metadata": {},
   "source": [
    "Primeiro, vamos analisar a origem geofráfica ou étnica das pessoas que desembarcaram em Freetown. Os códigos utilizados a partir de agora são muito parecidos com os que usamos até aqui. "
   ]
  },
  {
   "cell_type": "code",
   "execution_count": 43,
   "metadata": {
    "scrolled": true
   },
   "outputs": [
    {
     "data": {
      "image/png": "[encoded data removed]",
      "text/plain": [
       "<Figure size 432x288 with 1 Axes>"
      ]
     },
     "metadata": {},
     "output_type": "display_data"
    },
    {
     "name": "stdout",
     "output_type": "stream",
     "text": [
      "outros           1707\n",
      "desconhecido    79302\n",
      "dtype: int64\n"
     ]
    }
   ],
   "source": [
    "disemb_ft = file[file.Disembarkation == 'Freetown'] # separando os dados de Freetown\n",
    "originfta0 = disemb_ft['Country of Origin'].value_counts()\n",
    "originfta0.shape\n",
    "\n",
    "originfta1 = pd.Series(originfta0[:1])\n",
    "originfta2 = {'outros': sum(originfta0[1:])}\n",
    "originfta2 = pd.Series(originfta2, index=['outros'])\n",
    "originfta = pd.concat((originfta2, originfta1))\n",
    "\n",
    "originfta_d = dict(originfta.sort_values())\n",
    "originfta_d = {x:y for x, y in originfta_d.items() if y != 0} \n",
    "originfta_dkeys, originfta_dvalues = zip(*originfta_d.items())\n",
    "\n",
    "fig, ax = plt.subplots()\n",
    "ax.pie(originfta_dvalues, labels=originfta_dkeys, autopct='%1.1f%%')\n",
    "plt.show()\n",
    "\n",
    "print(originfta)"
   ]
  },
  {
   "cell_type": "markdown",
   "metadata": {},
   "source": [
    "Verificamos que somente 2.4% das pessoas que desembarcaram em Freetown tem origem geográfica ou étnica conhecida. Apesar de ser muito pouco, vale a pena analisar os dados conhecidos."
   ]
  },
  {
   "cell_type": "code",
   "execution_count": 44,
   "metadata": {
    "scrolled": false
   },
   "outputs": [
    {
     "data": {
      "image/png": "[encoded data removed]",
      "text/plain": [
       "<Figure size 432x288 with 1 Axes>"
      ]
     },
     "metadata": {},
     "output_type": "display_data"
    },
    {
     "name": "stdout",
     "output_type": "stream",
     "text": [
      "outros                  644\n",
      "Eboo, Hebo              762\n",
      "Calabar                 263\n",
      "Hausa, Hoosa, Houssa     38\n",
      "dtype: int64\n"
     ]
    }
   ],
   "source": [
    "originftb0 = originfta0.iloc[1:]\n",
    "originftb0.shape\n",
    "\n",
    "originftb1 = pd.Series(originftb0[:3])\n",
    "originftb2 = {'outros': sum(originftb0[3:])}\n",
    "originftb2 = pd.Series(originftb2, index=['outros'])\n",
    "originftb = pd.concat((originftb2, originftb1))\n",
    "\n",
    "originftb_d = dict(originftb)\n",
    "originftb_d = {x:y for x, y in originftb_d.items() if y != 0} \n",
    "originftb_dkeys, originftb_dvalues = zip(*originftb_d.items())\n",
    "\n",
    "fig, ax = plt.subplots()\n",
    "ax.pie(originftb_dvalues, autopct='%1.1f%%', counterclock=False)\n",
    "fig.legend(originftb_dkeys, loc=4)\n",
    "plt.show()\n",
    "\n",
    "print(originftb)"
   ]
  },
  {
   "cell_type": "markdown",
   "metadata": {},
   "source": [
    "Agora vamos conhecer os dados sobre o gênero das pessoas desembarcadas em Freetown."
   ]
  },
  {
   "cell_type": "code",
   "execution_count": 45,
   "metadata": {
    "scrolled": false
   },
   "outputs": [
    {
     "data": {
      "image/png": "[encoded data removed]",
      "text/plain": [
       "<Figure size 432x288 with 1 Axes>"
      ]
     },
     "metadata": {},
     "output_type": "display_data"
    },
    {
     "name": "stdout",
     "output_type": "stream",
     "text": [
      "Homem           33827\n",
      "Menino          18896\n",
      "Mulher          13870\n",
      "Menina          12019\n",
      "desconhecido     2397\n",
      "Name: Sexage, dtype: int64\n"
     ]
    }
   ],
   "source": [
    "sexage_ft = disemb_ft.Sexage.value_counts()\n",
    "sexageft_d = dict(sexage_ft)\n",
    "sexageft_dkeys, sexageft_dvalues = zip(*sexageft_d.items())\n",
    "\n",
    "fig, ax = plt.subplots()\n",
    "ax.pie(sexageft_dvalues, autopct='%1.1f%%')\n",
    "fig.legend(sexageft_dkeys, loc=4)\n",
    "plt.show()\n",
    "\n",
    "print(sexage_ft)"
   ]
  },
  {
   "cell_type": "markdown",
   "metadata": {},
   "source": [
    "Agora a faixa etária:"
   ]
  },
  {
   "cell_type": "code",
   "execution_count": 46,
   "metadata": {
    "scrolled": false
   },
   "outputs": [
    {
     "data": {
      "image/png": "[encoded data removed]",
      "text/plain": [
       "<Figure size 432x288 with 1 Axes>"
      ]
     },
     "metadata": {},
     "output_type": "display_data"
    },
    {
     "data": {
      "text/plain": [
       "count    81009.000000\n",
       "mean        18.835859\n",
       "std          8.520610\n",
       "min          0.500000\n",
       "25%         11.000000\n",
       "50%         20.000000\n",
       "75%         26.000000\n",
       "max         77.000000\n",
       "Name: Age, dtype: float64"
      ]
     },
     "execution_count": 46,
     "metadata": {},
     "output_type": "execute_result"
    }
   ],
   "source": [
    "age_ft = disemb_ft.Age\n",
    "fig, ax = plt.subplots()    \n",
    "ax.hist(age_ft, log=True)\n",
    "ax.set_xlabel('idade')\n",
    "plt.show()\n",
    "\n",
    "age_ft.describe()"
   ]
  },
  {
   "cell_type": "markdown",
   "metadata": {},
   "source": [
    "Agora vamos observar o total de desembarques por ano dos dados gerais (+) comparado com os desembarques em Freetown, assim:"
   ]
  },
  {
   "cell_type": "code",
   "execution_count": 47,
   "metadata": {
    "scrolled": true
   },
   "outputs": [
    {
     "data": {
      "image/png": "[encoded data removed]",
      "text/plain": [
       "<Figure size 432x288 with 1 Axes>"
      ]
     },
     "metadata": {},
     "output_type": "display_data"
    }
   ],
   "source": [
    "arrivalft = pd.DataFrame(disemb_ft.Arrival.value_counts()).reset_index(\n",
    "        ).sort_values(by='index')\n",
    "arrivalft = arrivalft.rename(columns={'index': 'Ano', 'Arrival': \n",
    "    'Pessoas resgatadas'})\n",
    "    \n",
    "fig, ax = plt.subplots()  \n",
    "ax.scatter(x='Ano', y='Pessoas resgatadas', data=arrivalft)  \n",
    "ax.scatter(x='Ano', y='Pessoas resgatadas', data=arrival, marker='+', \n",
    "           c='#D55E00')\n",
    "ax.set_xlabel('Anos')\n",
    "ax.legend(labels=['Freetown', 'total'])\n",
    "fig.savefig('desembarque_ft.png', dpi=300)\n",
    "plt.show()"
   ]
  },
  {
   "cell_type": "markdown",
   "metadata": {},
   "source": [
    "Até aqui e conforme o esperado, os dados de Freetown e os dados gerais têm poucas variações porque a grande maioria dos registros são provenientes de lá. Porém nesta plotagem, verificamos algumas informações relevantes. Uma delas é que os resgates ocorridos por volta de 1860 certamente não ocorreram em Freetown. Até a metade da década de 1820, somente há registros em Freetown. Depois disso, até por volta do início da década de 1840, há registros de desembarques em outros locais. Vamos descobrir de onde são no decorrer da análise dos dados."
   ]
  },
  {
   "cell_type": "markdown",
   "metadata": {},
   "source": [
    "Finalmente vamos analisar uma última característica de Freetown: os locais de onde as pessoas embarcaram e a quantidade. "
   ]
  },
  {
   "cell_type": "code",
   "execution_count": 48,
   "metadata": {
    "scrolled": false
   },
   "outputs": [
    {
     "data": {
      "image/png": "[encoded data removed]",
      "text/plain": [
       "<Figure size 432x288 with 1 Axes>"
      ]
     },
     "metadata": {},
     "output_type": "display_data"
    },
    {
     "name": "stdout",
     "output_type": "stream",
     "text": [
      "outros                        28765\n",
      "Lagos                         14947\n",
      "Bonny                         13067\n",
      "Velha Calabar                  6981\n",
      "Ouidah                         6415\n",
      "Gallinhas                      4147\n",
      "Bight of Benin unspecified     3958\n",
      "Badagry                        2729\n",
      "dtype: int64\n"
     ]
    }
   ],
   "source": [
    "embft0 = disemb_ft['Embarkation'].value_counts()\n",
    "embft0.shape\n",
    "\n",
    "embft1 = pd.Series(embft0[:7])\n",
    "embft2 = {'outros': sum(embft0[7:])}\n",
    "embft2 = pd.Series(embft2, index=['outros'])\n",
    "embft = pd.concat((embft2, embft1))\n",
    "\n",
    "embft_d = dict(embft.sort_values())\n",
    "embft_dkeys, embft_dvalues = zip(*embft_d.items())\n",
    "\n",
    "fig, ax = plt.subplots()\n",
    "ax.pie(embft_dvalues, labels=embft_dkeys, autopct='%1.1f%%', \n",
    "       counterclock=False)\n",
    "fig.savefig('embarque_ft.png', dpi=300)\n",
    "plt.show()\n",
    "\n",
    "print(embft)"
   ]
  },
  {
   "cell_type": "markdown",
   "metadata": {},
   "source": [
    "Verificamos aqui que, das pessoas que desembarcaram em Freetown, a maior parte delas veio de Lagos: 14.947 pessoas. Seguido de Bonny, Velha Calabar e assim em diante. "
   ]
  },
  {
   "cell_type": "markdown",
   "metadata": {},
   "source": [
    "**Havana**"
   ]
  },
  {
   "cell_type": "markdown",
   "metadata": {},
   "source": [
    "Vamos agora analisar os dados dos desembarcados em Havana."
   ]
  },
  {
   "cell_type": "markdown",
   "metadata": {},
   "source": [
    "Seguindo a ordem, conhecer a origem étnica ou geográfica dos resgatados."
   ]
  },
  {
   "cell_type": "code",
   "execution_count": 49,
   "metadata": {
    "scrolled": false
   },
   "outputs": [
    {
     "data": {
      "image/png": "[encoded data removed]",
      "text/plain": [
       "<Figure size 432x288 with 1 Axes>"
      ]
     },
     "metadata": {},
     "output_type": "display_data"
    },
    {
     "name": "stdout",
     "output_type": "stream",
     "text": [
      "Outros             5353\n",
      "Lucumi Ello        1235\n",
      "Congo               989\n",
      "Lucumi              582\n",
      "Carabali Suamo      490\n",
      "Mandinga            474\n",
      "Lucumi Ecumacho     470\n",
      "Ganga               465\n",
      "dtype: int64\n"
     ]
    }
   ],
   "source": [
    "disemb_hv = file[file.Disembarkation == 'Havana']\n",
    "originhv0 = disemb_hv['Country of Origin'].value_counts()\n",
    "originhv0.shape\n",
    "\n",
    "originhv1 = pd.Series(originhv0[:7])\n",
    "originhv2 = {'Outros': sum(originhv0[7:])}\n",
    "originhv2 = pd.Series(originhv2, index=['Outros'])\n",
    "originhv = pd.concat((originhv2, originhv1))\n",
    "\n",
    "originhv_d = dict(originhv.sort_values())\n",
    "originhv_d = {x:y for x, y in originhv_d.items() if y != 0} \n",
    "originhv_dkeys, originhv_dvalues = zip(*originhv_d.items())\n",
    "\n",
    "fig, ax = plt.subplots()\n",
    "ax.pie(originhv_dvalues, labels=originhv_dkeys, autopct='%1.1f%%')\n",
    "plt.show()\n",
    "\n",
    "print(originhv)"
   ]
  },
  {
   "cell_type": "markdown",
   "metadata": {},
   "source": [
    "Verificamos que, como era comum nas embarcações, os resgatados tinham diversas origens. No caso de Havana, a maior parte deles eram *Lucumi Ello*, com 1.235 pessoas. Outra informação interessante é que, como citamos antes, havia subgrupos étnicos, como por exemplo, além dos *Lucumi Ello*, havia também *Lucumi Ecumacho*. "
   ]
  },
  {
   "cell_type": "markdown",
   "metadata": {},
   "source": [
    "A seguir, o gênero das pessoas que desembarcaram em Havana."
   ]
  },
  {
   "cell_type": "code",
   "execution_count": 50,
   "metadata": {
    "scrolled": true
   },
   "outputs": [
    {
     "data": {
      "image/png": "[encoded data removed]",
      "text/plain": [
       "<Figure size 432x288 with 1 Axes>"
      ]
     },
     "metadata": {},
     "output_type": "display_data"
    },
    {
     "name": "stdout",
     "output_type": "stream",
     "text": [
      "desconhecido    10058\n",
      "Name: Sexage, dtype: int64\n"
     ]
    }
   ],
   "source": [
    "sexage_hv = disemb_hv.Sexage.value_counts()\n",
    "sexagehv_d = dict(sexage_hv)\n",
    "sexagehv_dkeys, sexagehv_dvalues = zip(*sexagehv_d.items())\n",
    "\n",
    "fig, ax = plt.subplots()\n",
    "ax.pie(sexagehv_dvalues, autopct='%1.1f%%')\n",
    "fig.legend(sexagehv_dkeys, loc=4)\n",
    "plt.show()\n",
    "\n",
    "print(sexage_hv)"
   ]
  },
  {
   "cell_type": "markdown",
   "metadata": {},
   "source": [
    "Verificamos que, infelizmente, todos os dados relativos ao gênero em Havana são desconhecidos."
   ]
  },
  {
   "cell_type": "markdown",
   "metadata": {},
   "source": [
    "Outro gráfico, desta vez indicando a faixa etária."
   ]
  },
  {
   "cell_type": "code",
   "execution_count": 51,
   "metadata": {
    "scrolled": false
   },
   "outputs": [
    {
     "data": {
      "image/png": "[encoded data removed]",
      "text/plain": [
       "<Figure size 432x288 with 1 Axes>"
      ]
     },
     "metadata": {},
     "output_type": "display_data"
    },
    {
     "data": {
      "text/plain": [
       "count    10058.000000\n",
       "mean        19.296234\n",
       "std          8.764830\n",
       "min          0.600000\n",
       "25%         12.000000\n",
       "50%         18.000000\n",
       "75%         25.000000\n",
       "max         72.000000\n",
       "Name: Age, dtype: float64"
      ]
     },
     "execution_count": 51,
     "metadata": {},
     "output_type": "execute_result"
    }
   ],
   "source": [
    "age_hv = disemb_hv.Age\n",
    "fig, ax = plt.subplots()    \n",
    "ax.hist(age_hv, log=True)\n",
    "ax.set_xlabel('idade')\n",
    "plt.show()\n",
    "\n",
    "age_hv.describe()"
   ]
  },
  {
   "cell_type": "markdown",
   "metadata": {},
   "source": [
    "A média de idade dos resgatados em Havana é um pouco maior do que o geral. Mesmo assim, segue a tendência de haver muitas crianças nas embarcações, e também idosos. "
   ]
  },
  {
   "cell_type": "markdown",
   "metadata": {},
   "source": [
    "Agora, outro gráfico que mostra a quantidade de resgatados por ano em Havana comparado com o geral."
   ]
  },
  {
   "cell_type": "code",
   "execution_count": 52,
   "metadata": {
    "scrolled": true
   },
   "outputs": [
    {
     "data": {
      "image/png": "[encoded data removed]",
      "text/plain": [
       "<Figure size 432x288 with 1 Axes>"
      ]
     },
     "metadata": {},
     "output_type": "display_data"
    }
   ],
   "source": [
    "arrivalhv = pd.DataFrame(disemb_hv.Arrival.value_counts()).reset_index(\n",
    "        ).sort_values(by='index')\n",
    "arrivalhv = arrivalhv.rename(columns={'index': 'Ano', 'Arrival': \n",
    "    'Pessoas resgatadas'})\n",
    "    \n",
    "fig, ax = plt.subplots()  \n",
    "ax.scatter(x='Ano', y='Pessoas resgatadas', data=arrivalhv)  \n",
    "ax.scatter(x='Ano', y='Pessoas resgatadas', data=arrival, marker='+', \n",
    "           c='#D55E00')\n",
    "ax.set_xlabel('Ano')\n",
    "ax.legend(labels=['Havana', 'geral'])\n",
    "\n",
    "plt.show() "
   ]
  },
  {
   "cell_type": "markdown",
   "metadata": {},
   "source": [
    "Verificamos que os resgatados de Havana se concentram no período que vai de um pouco antes da metade da década de 1820 até início da década de 1840. Também que, neste período, é o maior período de resgates que o banco de dados registra. "
   ]
  },
  {
   "cell_type": "markdown",
   "metadata": {},
   "source": [
    "Vamos conhecer agora dados que mostram os locais de embarque mais frequentes dos que desembarcaram em Havana."
   ]
  },
  {
   "cell_type": "code",
   "execution_count": 53,
   "metadata": {
    "scrolled": false
   },
   "outputs": [
    {
     "data": {
      "image/png": "[encoded data removed]",
      "text/plain": [
       "<Figure size 432x288 with 1 Axes>"
      ]
     },
     "metadata": {},
     "output_type": "display_data"
    },
    {
     "name": "stdout",
     "output_type": "stream",
     "text": [
      "outros         2702\n",
      "Ouidah         1891\n",
      "Bonny          1382\n",
      "Popo            988\n",
      "Rio Pongo       936\n",
      "Loango          922\n",
      "Lagos           783\n",
      "Congo River     454\n",
      "dtype: int64\n"
     ]
    }
   ],
   "source": [
    "embhv0 = disemb_hv['Embarkation'].value_counts()\n",
    "\n",
    "embhv1 = pd.Series(embhv0[:7])\n",
    "embhv2 = {'outros': sum(embhv0[7:])}\n",
    "embhv2 = pd.Series(embhv2, index=['outros'])\n",
    "embhv = pd.concat((embhv2, embhv1))\n",
    "\n",
    "embhv_d = dict(embhv.sort_values())\n",
    "embhv_dkeys, embhv_dvalues = zip(*embhv_d.items())\n",
    "\n",
    "fig, ax = plt.subplots()\n",
    "ax.pie(embhv_dvalues, labels=embhv_dkeys, autopct='%1.1f%%')\n",
    "plt.show()\n",
    "   \n",
    "print(embhv)"
   ]
  },
  {
   "cell_type": "markdown",
   "metadata": {},
   "source": [
    "A maioria embarcou em Ouidah, seguido de Bonny e Popo. "
   ]
  },
  {
   "cell_type": "markdown",
   "metadata": {},
   "source": [
    "**Bahamas**"
   ]
  },
  {
   "cell_type": "markdown",
   "metadata": {},
   "source": [
    "Vamos conhecer agora os dados sobre os desembarcados em Bahamas, começando com a origem étnica ou geográfica."
   ]
  },
  {
   "cell_type": "code",
   "execution_count": 54,
   "metadata": {
    "scrolled": false
   },
   "outputs": [
    {
     "data": {
      "image/png": "[encoded data removed]",
      "text/plain": [
       "<Figure size 432x288 with 1 Axes>"
      ]
     },
     "metadata": {},
     "output_type": "display_data"
    },
    {
     "name": "stdout",
     "output_type": "stream",
     "text": [
      "outros             0\n",
      "Congo            183\n",
      "desconhecido       0\n",
      "Congo Cumi         0\n",
      "Congo Decolo       0\n",
      "Congo Danval       0\n",
      "Congo Damba        0\n",
      "Congo Cutuide      0\n",
      "Congo Cusa         0\n",
      "Congo Cuno         0\n",
      "Congo Cuma         0\n",
      "dtype: int64\n"
     ]
    }
   ],
   "source": [
    "disemb_bh = file[file.Disembarkation == 'Bahamas (não especificado)']\n",
    "originbh0 = disemb_bh['Country of Origin'].value_counts()\n",
    "\n",
    "originbh1 = pd.Series(originbh0[:10])\n",
    "originbh2 = {'outros': sum(originbh0[10:])}\n",
    "originbh2 = pd.Series(originbh2, index=['outros'])\n",
    "originbh = pd.concat((originbh2, originbh1))\n",
    "\n",
    "originbh_d = dict(originbh)\n",
    "originbh_d = {x:y for x, y in originbh_d.items() if y != 0} \n",
    "originbh_dkeys, originbh_dvalues = zip(*originbh_d.items())\n",
    "\n",
    "fig, ax = plt.subplots()\n",
    "ax.pie(originbh_dvalues, labels=originbh_dkeys, autopct='%1.1f%%')\n",
    "plt.show()\n",
    "\n",
    "print(originbh)"
   ]
  },
  {
   "cell_type": "markdown",
   "metadata": {},
   "source": [
    "Absolutamente todas as pessoas que desembarcaram em Bahamas são do Congo (obviamente, nos registros deste banco de dados). Vamos ver quanto ao gênero."
   ]
  },
  {
   "cell_type": "code",
   "execution_count": 55,
   "metadata": {
    "scrolled": true
   },
   "outputs": [
    {
     "data": {
      "image/png": "[encoded data removed]",
      "text/plain": [
       "<Figure size 432x288 with 1 Axes>"
      ]
     },
     "metadata": {},
     "output_type": "display_data"
    },
    {
     "name": "stdout",
     "output_type": "stream",
     "text": [
      "desconhecido    183\n",
      "Name: Sexage, dtype: int64\n"
     ]
    }
   ],
   "source": [
    "sexage_bh = disemb_bh.Sexage.value_counts()\n",
    "sexagebh_d = dict(sexage_bh)\n",
    "sexagebh_dkeys, sexagebh_dvalues = zip(*sexagebh_d.items())\n",
    "\n",
    "fig, ax = plt.subplots()\n",
    "ax.pie(sexagebh_dvalues, autopct='%1.1f%%')\n",
    "fig.legend(sexagebh_dkeys, loc=4)\n",
    "plt.show()\n",
    "\n",
    "print(sexage_bh)"
   ]
  },
  {
   "cell_type": "markdown",
   "metadata": {},
   "source": [
    "Não há registros referentes ao gênero no banco de dados. Vamos verificar em relação à faixa etária:"
   ]
  },
  {
   "cell_type": "code",
   "execution_count": 56,
   "metadata": {
    "scrolled": false
   },
   "outputs": [
    {
     "data": {
      "image/png": "[encoded data removed]",
      "text/plain": [
       "<Figure size 432x288 with 1 Axes>"
      ]
     },
     "metadata": {},
     "output_type": "display_data"
    },
    {
     "data": {
      "text/plain": [
       "count    183.000000\n",
       "mean      15.797814\n",
       "std        6.560588\n",
       "min        7.000000\n",
       "25%       10.000000\n",
       "50%       15.000000\n",
       "75%       22.000000\n",
       "max       35.000000\n",
       "Name: Age, dtype: float64"
      ]
     },
     "execution_count": 56,
     "metadata": {},
     "output_type": "execute_result"
    }
   ],
   "source": [
    "age_bh = disemb_bh.Age\n",
    "fig, ax = plt.subplots()    \n",
    "ax.hist(age_bh, log=True)\n",
    "ax.set_xlabel('idade')\n",
    "plt.show()\n",
    "\n",
    "age_bh.describe()"
   ]
  },
  {
   "cell_type": "markdown",
   "metadata": {},
   "source": [
    "Aqui o gráfico é diferente dos que vimos até agora. A média é menor do que o geral, mostrando que a maioria nas embarcações era composta por adolescentes. Não há registros aqui de bebês (mas de crianças sim), nem de idosos. A idade máxima é de 35 anos. "
   ]
  },
  {
   "cell_type": "markdown",
   "metadata": {},
   "source": [
    "Comparando o número de resgates por ano em Bahamas com o geral:"
   ]
  },
  {
   "cell_type": "code",
   "execution_count": 57,
   "metadata": {
    "scrolled": true
   },
   "outputs": [
    {
     "data": {
      "image/png": "[encoded data removed]",
      "text/plain": [
       "<Figure size 432x288 with 1 Axes>"
      ]
     },
     "metadata": {},
     "output_type": "display_data"
    }
   ],
   "source": [
    "arrivalbh = pd.DataFrame(disemb_bh.Arrival.value_counts()).reset_index(\n",
    "        ).sort_values(by='index')\n",
    "arrivalbh = arrivalbh.rename(columns={'index': 'Ano', 'Arrival': \n",
    "    'Pessoas resgatadas'})\n",
    "    \n",
    "fig, ax = plt.subplots()  \n",
    "ax.scatter(x='Ano', y='Pessoas resgatadas', data=arrivalbh)  \n",
    "ax.scatter(x='Ano', y='Pessoas resgatadas', data=arrival, marker='+', \n",
    "           c='#D55E00')\n",
    "ax.set_xlabel('Ano')\n",
    "ax.legend(labels=['Bahamas', 'total'])\n",
    "plt.show()   "
   ]
  },
  {
   "cell_type": "markdown",
   "metadata": {},
   "source": [
    "Conforme esperado, já que há poucos registros dos desembarcados em Bahamas em relação ao geral, a quantidade de resgates lá é baixa, tendo registro apenas por volta da metade da década de 1830. "
   ]
  },
  {
   "cell_type": "markdown",
   "metadata": {},
   "source": [
    "Agora, vamos aos registros que mostram os locais de embarque dos resgatados que desembarcaram em Bahamas:"
   ]
  },
  {
   "cell_type": "code",
   "execution_count": 58,
   "metadata": {
    "scrolled": true
   },
   "outputs": [
    {
     "data": {
      "image/png": "[encoded data removed]",
      "text/plain": [
       "<Figure size 432x288 with 1 Axes>"
      ]
     },
     "metadata": {},
     "output_type": "display_data"
    },
    {
     "name": "stdout",
     "output_type": "stream",
     "text": [
      "outros      0\n",
      "Bimbia    183\n",
      "dtype: int64\n"
     ]
    }
   ],
   "source": [
    "embbh0 = disemb_bh['Embarkation'].value_counts()\n",
    "\n",
    "embbh1 = pd.Series(embbh0[:7])\n",
    "embbh2 = {'outros': sum(embbh0[7:])}\n",
    "embbh2 = pd.Series(embbh2, index=['outros'])\n",
    "embbh = pd.concat((embbh2, embbh1))\n",
    "\n",
    "embbh_d = dict(embbh.sort_values())\n",
    "embbh_d = {x:y for x, y in embbh_d.items() if y != 0} \n",
    "embbh_dkeys, embbh_dvalues = zip(*embbh_d.items())\n",
    "\n",
    "fig, ax = plt.subplots()\n",
    "ax.pie(embbh_dvalues, labels=embbh_dkeys, autopct='%1.1f%%', counterclock=False)\n",
    "plt.show()\n",
    "    \n",
    "print(embbh)"
   ]
  },
  {
   "cell_type": "markdown",
   "metadata": {},
   "source": [
    "Todos os desembarcados em Bahamas embarcaram em Bimbia. Daqui, podemos conjecturar o seguinte: teria relação com a origem étnica ou geográfica deste segmento?"
   ]
  },
  {
   "cell_type": "markdown",
   "metadata": {},
   "source": [
    "**Kingston, Jamaica**"
   ]
  },
  {
   "cell_type": "markdown",
   "metadata": {},
   "source": [
    "Vamos aos resgatados que desembarcaram neste local, começando pela origem étnica ou geográfica."
   ]
  },
  {
   "cell_type": "code",
   "execution_count": 59,
   "metadata": {
    "scrolled": false
   },
   "outputs": [
    {
     "data": {
      "image/png": "[encoded data removed]",
      "text/plain": [
       "<Figure size 432x288 with 1 Axes>"
      ]
     },
     "metadata": {},
     "output_type": "display_data"
    },
    {
     "name": "stdout",
     "output_type": "stream",
     "text": [
      "De Beias         144\n",
      "Congo Cuma         0\n",
      "Congo Cumi         0\n",
      "Congo Cuno         0\n",
      "Congo Cusa         0\n",
      "Congo Cutuide      0\n",
      "Congo Damba        0\n",
      "Congo Danval       0\n",
      "Congo Cay          0\n",
      "desconhecido       0\n",
      "outros             0\n",
      "dtype: int64\n"
     ]
    }
   ],
   "source": [
    "disemb_jm = file[file.Disembarkation == 'Kingston, Jamaica']\n",
    "originjm0 = disemb_jm['Country of Origin'].value_counts()\n",
    "\n",
    "originjm1 = pd.Series(originjm0[:10])\n",
    "originjm2 = {'outros': sum(originjm0[10:])}\n",
    "originjm2 = pd.Series(originjm2, index=['outros'])\n",
    "originjm = pd.concat((originjm2, originjm1)).sort_values(ascending=False)\n",
    "\n",
    "originjm_d = dict(originjm)\n",
    "originjm_d = {x:y for x, y in originjm_d.items() if y != 0}\n",
    "originjm_dkeys, originjm_dvalues = zip(*originjm_d.items())\n",
    "\n",
    "fig, ax = plt.subplots()\n",
    "ax.pie(originjm_dvalues, labels=originjm_dkeys, autopct='%1.1f%%')\n",
    "plt.show()\n",
    "\n",
    "print(originjm)"
   ]
  },
  {
   "cell_type": "markdown",
   "metadata": {},
   "source": [
    "Todos têm origem étnica ou geográfica em De Beias."
   ]
  },
  {
   "cell_type": "markdown",
   "metadata": {},
   "source": [
    "Vamos ao gênero:"
   ]
  },
  {
   "cell_type": "code",
   "execution_count": 60,
   "metadata": {
    "scrolled": true
   },
   "outputs": [
    {
     "data": {
      "image/png": "[encoded data removed]",
      "text/plain": [
       "<Figure size 432x288 with 1 Axes>"
      ]
     },
     "metadata": {},
     "output_type": "display_data"
    },
    {
     "name": "stdout",
     "output_type": "stream",
     "text": [
      "desconhecido    144\n",
      "Name: Sexage, dtype: int64\n"
     ]
    }
   ],
   "source": [
    "sexage_jm = disemb_jm.Sexage.value_counts()\n",
    "sexagejm_d = dict(sexage_jm)\n",
    "sexagejm_dkeys, sexagejm_dvalues = zip(*sexagejm_d.items())\n",
    "\n",
    "fig, ax = plt.subplots()\n",
    "ax.pie(sexagejm_dvalues, autopct='%1.1f%%')\n",
    "fig.legend(sexagejm_dkeys, loc=4)\n",
    "plt.show()\n",
    "\n",
    "print(sexage_jm)"
   ]
  },
  {
   "cell_type": "markdown",
   "metadata": {},
   "source": [
    "Infelizmente em Kingston também não temos informações sobre o gênero dos resgatados. E em relação à faixa etária?"
   ]
  },
  {
   "cell_type": "code",
   "execution_count": 61,
   "metadata": {
    "scrolled": false
   },
   "outputs": [
    {
     "data": {
      "image/png": "[encoded data removed]",
      "text/plain": [
       "<Figure size 432x288 with 1 Axes>"
      ]
     },
     "metadata": {},
     "output_type": "display_data"
    },
    {
     "data": {
      "text/plain": [
       "count    144.000000\n",
       "mean      24.618055\n",
       "std       10.903901\n",
       "min        6.000000\n",
       "25%       16.000000\n",
       "50%       25.000000\n",
       "75%       31.250000\n",
       "max       55.000000\n",
       "Name: Age, dtype: float64"
      ]
     },
     "execution_count": 61,
     "metadata": {},
     "output_type": "execute_result"
    }
   ],
   "source": [
    "age_jm = disemb_jm.Age\n",
    "\n",
    "fig, ax = plt.subplots()    \n",
    "ax.hist(age_jm, log=True)\n",
    "ax.set_xlabel('idade')\n",
    "plt.show()\n",
    "\n",
    "age_jm.describe()"
   ]
  },
  {
   "cell_type": "markdown",
   "metadata": {},
   "source": [
    "Aqui a idade média também é diferente do geral, desta vez maior, entre 24 e 25 anos. "
   ]
  },
  {
   "cell_type": "markdown",
   "metadata": {},
   "source": [
    "Sobre a comparação dos resgates em Kingston, Jamaica e o geral, é o que segue:"
   ]
  },
  {
   "cell_type": "code",
   "execution_count": 62,
   "metadata": {
    "scrolled": true
   },
   "outputs": [
    {
     "data": {
      "image/png": "[encoded data removed]",
      "text/plain": [
       "<Figure size 432x288 with 1 Axes>"
      ]
     },
     "metadata": {},
     "output_type": "display_data"
    }
   ],
   "source": [
    "arrivaljm = pd.DataFrame(disemb_jm.Arrival.value_counts()).reset_index(\n",
    "        ).sort_values(by='index')\n",
    "arrivaljm = arrivaljm.rename(columns={'index': 'Ano', 'Arrival': \n",
    "    'Pessoas resgatadas'})\n",
    "    \n",
    "fig, ax = plt.subplots()  \n",
    "ax.scatter(x='Ano', y='Pessoas resgatadas', data=arrivaljm)  \n",
    "ax.scatter(x='Ano', y='Pessoas resgatadas', data=arrival, marker='+', \n",
    "           c='#D55E00')\n",
    "ax.set_xlabel('Ano')\n",
    "ax.legend(labels=['Kingston, Jamaica', 'total'])\n",
    "plt.show() "
   ]
  },
  {
   "cell_type": "markdown",
   "metadata": {},
   "source": [
    "Poucos resgates como esperávamos e por volta do final da década de 1830. "
   ]
  },
  {
   "cell_type": "markdown",
   "metadata": {},
   "source": [
    "Sobre os locais de embarque:"
   ]
  },
  {
   "cell_type": "code",
   "execution_count": 63,
   "metadata": {
    "scrolled": true
   },
   "outputs": [
    {
     "data": {
      "image/png": "[encoded data removed]",
      "text/plain": [
       "<Figure size 432x288 with 1 Axes>"
      ]
     },
     "metadata": {},
     "output_type": "display_data"
    },
    {
     "name": "stdout",
     "output_type": "stream",
     "text": [
      "Bissau    144\n",
      "Outros      0\n",
      "dtype: int64\n"
     ]
    }
   ],
   "source": [
    "embjm0 = disemb_jm['Embarkation'].value_counts()\n",
    "\n",
    "embjm1 = pd.Series(embjm0[:7])\n",
    "embjm2 = {'Outros': sum(embjm0[7:])}\n",
    "embjm2 = pd.Series(embjm2, index=['Outros'])\n",
    "embjm = pd.concat((embjm2, embjm1)).sort_values(ascending=False)\n",
    "\n",
    "embjm_d = dict(embjm)\n",
    "embjm_d = {x:y for x, y in embjm_d.items() if y != 0} \n",
    "embjm_dkeys, embjm_dvalues = zip(*embjm_d.items())\n",
    "\n",
    "fig, ax = plt.subplots()\n",
    "ax.pie(embjm_dvalues, labels=embjm_dkeys, autopct='%1.1f%%', counterclock=False)\n",
    "plt.show()\n",
    "    \n",
    "print(embjm)"
   ]
  },
  {
   "cell_type": "markdown",
   "metadata": {},
   "source": [
    "Todos embarcaram em Bissau e a mesma conjectura: tem relação com a origem étnica ou geográfica?"
   ]
  },
  {
   "cell_type": "markdown",
   "metadata": {},
   "source": [
    "**Santa Helena**"
   ]
  },
  {
   "cell_type": "markdown",
   "metadata": {},
   "source": [
    "Vamos à análise do último local onde os resgatados foram desembarcados, começando com a origem étnica ou geográfica:"
   ]
  },
  {
   "cell_type": "code",
   "execution_count": 64,
   "metadata": {
    "scrolled": false
   },
   "outputs": [
    {
     "data": {
      "image/png": "[encoded data removed]",
      "text/plain": [
       "<Figure size 432x288 with 1 Axes>"
      ]
     },
     "metadata": {},
     "output_type": "display_data"
    },
    {
     "name": "stdout",
     "output_type": "stream",
     "text": [
      "desconhecido     96\n",
      "Congo Densuco     0\n",
      "Congo Conche      0\n",
      "Congo Cumi        0\n",
      "Congo Cuno        0\n",
      "Congo Cusa        0\n",
      "Congo Cutuide     0\n",
      "Congo Damba       0\n",
      "Congo Danval      0\n",
      "Congo Cuma        0\n",
      "Outros            0\n",
      "dtype: int64\n"
     ]
    }
   ],
   "source": [
    "disemb_hl = file[file.Disembarkation == 'Santa Helena']\n",
    "originhl0 = disemb_hl['Country of Origin'].value_counts()\n",
    "\n",
    "originhl1 = pd.Series(originhl0[:10])\n",
    "originhl2 = {'Outros': sum(originhl0[10:])}\n",
    "originhl2 = pd.Series(originhl2, index=['Outros'])\n",
    "originhl = pd.concat((originhl2, originhl1)).sort_values(ascending=False)\n",
    "\n",
    "originhl_d = dict(originhl)\n",
    "originhl_d = {x: y for x, y in originhl_d.items() if y!= 0}\n",
    "originhl_dkeys, originhl_dvalues = zip(*originhl_d.items())\n",
    "\n",
    "fig, ax = plt.subplots()\n",
    "ax.pie(originhl_dvalues, labels=originhl_dkeys, autopct='%1.1f%%')\n",
    "plt.show()\n",
    "\n",
    "print(originhl)"
   ]
  },
  {
   "cell_type": "markdown",
   "metadata": {},
   "source": [
    "Não há registros. Agora vamos ao gênero:"
   ]
  },
  {
   "cell_type": "code",
   "execution_count": 65,
   "metadata": {
    "scrolled": true
   },
   "outputs": [
    {
     "data": {
      "image/png": "[encoded data removed]",
      "text/plain": [
       "<Figure size 432x288 with 1 Axes>"
      ]
     },
     "metadata": {},
     "output_type": "display_data"
    },
    {
     "name": "stdout",
     "output_type": "stream",
     "text": [
      "desconhecido    96\n",
      "Name: Sexage, dtype: int64\n"
     ]
    }
   ],
   "source": [
    "sexage_hl = disemb_hl.Sexage.value_counts()\n",
    "sexagehl_d = dict(sexage_hl)\n",
    "sexagehl_dkeys, sexagehl_dvalues = zip(*sexagehl_d.items())\n",
    "\n",
    "fig, ax = plt.subplots()\n",
    "ax.pie(sexagehl_dvalues, autopct='%1.1f%%')\n",
    "fig.legend(sexagehl_dkeys, loc=4)\n",
    "plt.show()\n",
    "\n",
    "print(sexage_hl)"
   ]
  },
  {
   "cell_type": "markdown",
   "metadata": {},
   "source": [
    "Também desconhecido. Faixa etária:"
   ]
  },
  {
   "cell_type": "code",
   "execution_count": 66,
   "metadata": {
    "scrolled": false
   },
   "outputs": [
    {
     "data": {
      "image/png": "[encoded data removed]",
      "text/plain": [
       "<Figure size 432x288 with 1 Axes>"
      ]
     },
     "metadata": {},
     "output_type": "display_data"
    },
    {
     "data": {
      "text/plain": [
       "count    96.000000\n",
       "mean     18.889683\n",
       "std       0.000019\n",
       "min      18.889702\n",
       "25%      18.889702\n",
       "50%      18.889702\n",
       "75%      18.889702\n",
       "max      18.889702\n",
       "Name: Age, dtype: float64"
      ]
     },
     "execution_count": 66,
     "metadata": {},
     "output_type": "execute_result"
    }
   ],
   "source": [
    "age_hl = disemb_hl.Age\n",
    "fig, ax = plt.subplots()    \n",
    "ax.hist(age_hl, log=True)\n",
    "ax.set_xlabel('idade')\n",
    "plt.show()\n",
    "\n",
    "age_hl.describe()"
   ]
  },
  {
   "cell_type": "markdown",
   "metadata": {},
   "source": [
    "Este gráfico está estranho. Mas lembra-se que no lugar de registros NaNs preenchemos com a média da idade? Levando isso em consideração e observando que a média é exatamente igual à média geral, assim como as idades mínimas e máximas, bem como os quartis, podemos concluir que os dados referentes à faixa etária também são desconhecidos. "
   ]
  },
  {
   "cell_type": "markdown",
   "metadata": {},
   "source": [
    "Comparando os resgates em Santa Helena com o geral:"
   ]
  },
  {
   "cell_type": "code",
   "execution_count": 67,
   "metadata": {
    "scrolled": true
   },
   "outputs": [
    {
     "data": {
      "image/png": "[encoded data removed]",
      "text/plain": [
       "<Figure size 432x288 with 1 Axes>"
      ]
     },
     "metadata": {},
     "output_type": "display_data"
    }
   ],
   "source": [
    "arrivalhl = pd.DataFrame(disemb_hl.Arrival.value_counts()).reset_index(\n",
    "        ).sort_values(by='index')\n",
    "arrivalhl = arrivalhl.rename(columns={'index': 'Ano', 'Arrival': \n",
    "    'Pessoas resgatadas'})\n",
    "    \n",
    "fig, ax = plt.subplots()  \n",
    "ax.scatter(x='Ano', y='Pessoas resgatadas', data=arrivalhl)  \n",
    "ax.scatter(x='Ano', y='Pessoas resgatadas', data=arrival, marker='+', \n",
    "           c='#D55E00')\n",
    "ax.set_xlabel('Ano')\n",
    "ax.legend(labels=['Santa Helena', 'total'])\n",
    "\n",
    "plt.show() "
   ]
  },
  {
   "cell_type": "markdown",
   "metadata": {},
   "source": [
    "Santa Helena é um *outlier*, pois os registros mostram que os resgates aconteceram fora do período de maior frequência, entre o final da década de 1850 e parte na década de 1860. E neste período não há, ao menos no banco de dados, registros de outros resgates. Seria interessante descobrir o motivo. "
   ]
  },
  {
   "cell_type": "markdown",
   "metadata": {},
   "source": [
    "Quase finalizando, vamos à última análise referente à Santa Helena: locais de embarque dos resgatados."
   ]
  },
  {
   "cell_type": "code",
   "execution_count": 68,
   "metadata": {
    "scrolled": true
   },
   "outputs": [
    {
     "data": {
      "image/png": "[encoded data removed]",
      "text/plain": [
       "<Figure size 432x288 with 1 Axes>"
      ]
     },
     "metadata": {},
     "output_type": "display_data"
    },
    {
     "name": "stdout",
     "output_type": "stream",
     "text": [
      "Congo River    70\n",
      "Cabinda        24\n",
      "Congo North     2\n",
      "Outros          0\n",
      "dtype: int64\n"
     ]
    }
   ],
   "source": [
    "embhl0 = disemb_hl['Embarkation'].value_counts()\n",
    "\n",
    "embhl1 = pd.Series(embhl0[:7])\n",
    "embhl2 = {'Outros': sum(embhl0[7:])}\n",
    "embhl2 = pd.Series(embhl2, index=['Outros'])\n",
    "embhl = pd.concat((embhl2, embhl1)).sort_values(ascending=False)\n",
    "\n",
    "embhl_d = dict(embhl)\n",
    "embhl_d = {x:y for x, y in embhl_d.items() if y != 0} \n",
    "embhl_dkeys, embhl_dvalues = zip(*embhl_d.items())\n",
    "\n",
    "fig, ax = plt.subplots()\n",
    "ax.pie(embhl_dvalues, labels=embhl_dkeys, autopct='%1.1f%%', counterclock=False)\n",
    "plt.show()\n",
    "    \n",
    "print(embhl)"
   ]
  },
  {
   "cell_type": "markdown",
   "metadata": {},
   "source": [
    "Os desembarcados em Santa Helena embarcaram de somente 3 locais: Rio Congo, Cabinda e Congo do Norte (tradução livre). "
   ]
  },
  {
   "cell_type": "markdown",
   "metadata": {},
   "source": [
    "Finalmente, finalizando a análise deste banco de dados, vamos ter uma visão geral da quantidade de resgates por ano em Freetown, Havana, Bahamas, Kingston e Santa Helena."
   ]
  },
  {
   "cell_type": "code",
   "execution_count": 69,
   "metadata": {
    "scrolled": true
   },
   "outputs": [
    {
     "data": {
      "image/png": "[encoded data removed]",
      "text/plain": [
       "<Figure size 432x288 with 1 Axes>"
      ]
     },
     "metadata": {},
     "output_type": "display_data"
    }
   ],
   "source": [
    "fig, ax = plt.subplots()  \n",
    "ax.scatter(x='Ano', y='Pessoas resgatadas', data=arrivalft)\n",
    "ax.scatter(x='Ano', y='Pessoas resgatadas', data=arrivalhv)\n",
    "ax.scatter(x='Ano', y='Pessoas resgatadas', data=arrivalbh)\n",
    "ax.scatter(x='Ano', y='Pessoas resgatadas', data=arrivaljm)\n",
    "ax.scatter(x='Ano', y='Pessoas resgatadas', data=arrivalhl)\n",
    "ax.set_xlabel('Ano')\n",
    "ax.legend(labels=['Freetown', 'Havana', 'Bahamas', \n",
    "                  'Kingston, Jamaica', 'Santa Helena'], \n",
    "                  loc='upper left', fontsize=9)\n",
    "\n",
    "plt.show() "
   ]
  },
  {
   "cell_type": "markdown",
   "metadata": {},
   "source": [
    "Muitas outras informações e relações podem ser retiradas deste banco de dados. Espero ansiosamente outras análises, inclusive mais profundas, deste banco de dados. "
   ]
  },
  {
   "cell_type": "markdown",
   "metadata": {},
   "source": [
    "E esta é a minha singela homenagem àqueles que jamais será esquecidos!"
   ]
  }
 ],
 "metadata": {
  "kernelspec": {
   "display_name": "Python 3",
   "language": "python",
   "name": "python3"
  },
  "language_info": {
   "codemirror_mode": {
    "name": "ipython",
    "version": 3
   },
   "file_extension": ".py",
   "mimetype": "text/x-python",
   "name": "python",
   "nbconvert_exporter": "python",
   "pygments_lexer": "ipython3",
   "version": "3.7.3"
  }
 },
 "nbformat": 4,
 "nbformat_minor": 2
}
